{
 "cells": [
  {
   "cell_type": "code",
   "execution_count": 1,
   "metadata": {},
   "outputs": [],
   "source": [
    "import numpy as np\n",
    "import pandas as pd\n",
    "import matplotlib.pyplot as plt\n",
    "import seaborn as sns\n",
    "import missingno as msno"
   ]
  },
  {
   "cell_type": "code",
   "execution_count": 3,
   "metadata": {},
   "outputs": [],
   "source": [
    "prov = pd.read_excel(\"../data/raw/proveedores.xlsx\")"
   ]
  },
  {
   "cell_type": "code",
   "execution_count": 5,
   "metadata": {},
   "outputs": [],
   "source": [
    "don = pd.read_excel(\"../data/raw/donantes.xlsx\")"
   ]
  },
  {
   "cell_type": "code",
   "execution_count": null,
   "metadata": {},
   "outputs": [],
   "source": [
    "detalles = pd.read_csv(\"../data/raw/Detalles_Ing_Egres.txt\", sep= \" \", encoding= \"latin1\")"
   ]
  },
  {
   "cell_type": "code",
   "execution_count": 16,
   "metadata": {},
   "outputs": [
    {
     "name": "stdout",
     "output_type": "stream",
     "text": [
      "102201\tGastos Pagados por adelantado\tOtros activos corto plazo\t\n",
      "\n",
      "300010\tApertura Balance Inicial\tPatrimonio Neto\t\n",
      "\n",
      "402101\tIngresos Institucionales mensuales\tIngresos\t\n",
      "\n",
      "403101\tDonaciones Personales no recurrentes\tIngresos\t\n",
      "\n",
      "403103\tIngresos Bonos Contribución\tIngresos\tPara fines generales\n",
      "\n",
      "404100\tIngresos Estado\tIngresos\tSubsidios Cargas Sociales, Programas Estatales, Becas Estatales, etc\n",
      "\n",
      "406100\tIngresos Eventos Institucionales\tIngresos\tInstitucionales o Bonos Contribución al Evento, Ingresos adicionales institucionales o Personales al Evento, Otros, etc\n",
      "\n",
      "409099\tIngresos / Donaciones a clasificar o identificar\tIngresos\tIngreso sin identificar / clasificar. Al cierre dejar nula.\n",
      "\n",
      "501200\tHonorarios Programas Sociales\tGastos\tTrabajadores sociales, médicos, nutricionistas, enfermeria, pedagogicos, tutores, coordinacion, limpieza y cocina, apoyo escolar, etc\n",
      "\n",
      "501400\tHonorarios Asesoría General\tGastos\tGestión, Comunicación Institucional, Voluntariado, Desarrollo de Fondos\n",
      "\n",
      "503100\tAlimentación\tGastos\tComida protagonistas, bolsones comida, leche, suplemento nutricional, etc\n",
      "\n",
      "505100\tAyudas Económicas\tGastos\tBecas Protagonistas, subsidios, descuentos, incobrables, becas aranceles educativos, etc\n",
      "\n",
      "507100\tInsumos Varios Programas Sociales\tGastos\tAccesorios, utiles, higiene personal, materia prima, etc\n",
      "\n",
      "509100\tServicios Soporte\tGastos\tReparaciones, mantenimiento, insumos y servivios de limpieza, matafuegos, jardineria, seguridad, alarmas, vigilancia, etc\n",
      "\n",
      "510200\tViajes Locales\tGastos\tPasajes, hoteles, gasto representacion, etc en viajes DENTRO del Pais\n",
      "\n",
      "510500\tGastos Rodados\tGastos\tPatente, seguro, lavado, mantenimiento, reparaciones, etc\n",
      "\n",
      "511200\tServicios Básicos\tGastos\tLuz, Gas, Agua, Tasas y Contribuciones Municipales, etc\n",
      "\n",
      "513000\tBásicos Generales\tGastos\tBancarios, Cobranza Fondos, Impuestos, Basicos Oficina, Librería, Envios masivos, Seguros,Tramites ONG, etc\n",
      "\n",
      "515100\tEventos Institucionales\tGastos\tAlquileres, catering, planners, musicalizacion, salas, proyecciones, espectaculos, presentadores, SADAIC,seguros, premios, etc\n",
      "\n",
      "601001\tIntereses ganados en pesos\tResultados financieros netos\tIntereses Ganados - Moneda Local\n",
      "\n",
      "601003\tIntereses ganados en u$s\tResultados financieros netos\tIntereses Ganados - Moneda extranjera\n",
      "\n",
      "601007\tResultado por Tenencia\tResultados financieros netos\tTenencia de bienes o valores cuotasparte en fondos inversion\n",
      "\n",
      "\n",
      "23\n"
     ]
    }
   ],
   "source": [
    "contador = 0\n",
    "with open(\"../data/raw/Detalles_Ing_Egres.txt\", encoding= \"latin1\") as d:\n",
    "    for i in d:\n",
    "        contador += 1\n",
    "        print(d.readline())\n",
    "    print(contador)"
   ]
  },
  {
   "cell_type": "code",
   "execution_count": 4,
   "metadata": {},
   "outputs": [
    {
     "data": {
      "text/html": [
       "<div>\n",
       "<style scoped>\n",
       "    .dataframe tbody tr th:only-of-type {\n",
       "        vertical-align: middle;\n",
       "    }\n",
       "\n",
       "    .dataframe tbody tr th {\n",
       "        vertical-align: top;\n",
       "    }\n",
       "\n",
       "    .dataframe thead th {\n",
       "        text-align: right;\n",
       "    }\n",
       "</style>\n",
       "<table border=\"1\" class=\"dataframe\">\n",
       "  <thead>\n",
       "    <tr style=\"text-align: right;\">\n",
       "      <th></th>\n",
       "      <th>Número Proveedor</th>\n",
       "      <th>Nombre Proveedor</th>\n",
       "      <th>CUIT</th>\n",
       "      <th>Categor/a Proveedor</th>\n",
       "      <th>Tipo de Contribuyente</th>\n",
       "      <th>Observaciones</th>\n",
       "      <th>Contacto</th>\n",
       "      <th>Correo Electrónico</th>\n",
       "      <th>Teléfono</th>\n",
       "      <th>Razón Social</th>\n",
       "      <th>Importe</th>\n",
       "      <th>Fecha</th>\n",
       "      <th>Nro_Cuenta</th>\n",
       "      <th>Ciudad</th>\n",
       "      <th>Pais</th>\n",
       "    </tr>\n",
       "  </thead>\n",
       "  <tbody>\n",
       "    <tr>\n",
       "      <th>0</th>\n",
       "      <td>P00001</td>\n",
       "      <td>Proveedora S.A.</td>\n",
       "      <td>30-12345678-9</td>\n",
       "      <td>SERVIC/OS</td>\n",
       "      <td>RESPONSABLE INSCR/ITO</td>\n",
       "      <td>-</td>\n",
       "      <td>Juan Pérez</td>\n",
       "      <td>juan.perez@empresa.com</td>\n",
       "      <td>1234-5678</td>\n",
       "      <td>S.A.</td>\n",
       "      <td>171488</td>\n",
       "      <td>2024-03-18</td>\n",
       "      <td>501400</td>\n",
       "      <td>Buenos Aires</td>\n",
       "      <td>Argentina</td>\n",
       "    </tr>\n",
       "    <tr>\n",
       "      <th>1</th>\n",
       "      <td>P00002</td>\n",
       "      <td>Pedro González</td>\n",
       "      <td>30-87654321-0</td>\n",
       "      <td>SERVIC/OS</td>\n",
       "      <td>MONOTRIBUTISTA</td>\n",
       "      <td>-</td>\n",
       "      <td>Pedro González</td>\n",
       "      <td>pedro.gonzalez@correo.zom</td>\n",
       "      <td>2345-6789</td>\n",
       "      <td>S.R.L.</td>\n",
       "      <td>288255</td>\n",
       "      <td>2024-02-08</td>\n",
       "      <td>503100</td>\n",
       "      <td>Cordoba</td>\n",
       "      <td>Argentina</td>\n",
       "    </tr>\n",
       "    <tr>\n",
       "      <th>2</th>\n",
       "      <td>P00003</td>\n",
       "      <td>Empresa XYZ</td>\n",
       "      <td>30-13579246-3</td>\n",
       "      <td>MATER/IALES</td>\n",
       "      <td>RESPONSABLE INSCR/ITO</td>\n",
       "      <td>-</td>\n",
       "      <td>María López</td>\n",
       "      <td>maria.lopez@empresa.com</td>\n",
       "      <td>3456-7890</td>\n",
       "      <td>S.A.</td>\n",
       "      <td>195975</td>\n",
       "      <td>2024-01-18</td>\n",
       "      <td>506100</td>\n",
       "      <td>Rosario</td>\n",
       "      <td>Argentina</td>\n",
       "    </tr>\n",
       "  </tbody>\n",
       "</table>\n",
       "</div>"
      ],
      "text/plain": [
       "  Número Proveedor Nombre Proveedor           CUIT Categor/a Proveedor  \\\n",
       "0           P00001  Proveedora S.A.  30-12345678-9           SERVIC/OS   \n",
       "1           P00002   Pedro González  30-87654321-0           SERVIC/OS   \n",
       "2           P00003      Empresa XYZ  30-13579246-3         MATER/IALES   \n",
       "\n",
       "   Tipo de Contribuyente Observaciones        Contacto  \\\n",
       "0  RESPONSABLE INSCR/ITO             -      Juan Pérez   \n",
       "1         MONOTRIBUTISTA             -  Pedro González   \n",
       "2  RESPONSABLE INSCR/ITO             -     María López   \n",
       "\n",
       "          Correo Electrónico   Teléfono Razón Social  Importe      Fecha  \\\n",
       "0     juan.perez@empresa.com  1234-5678         S.A.   171488 2024-03-18   \n",
       "1  pedro.gonzalez@correo.zom  2345-6789       S.R.L.   288255 2024-02-08   \n",
       "2    maria.lopez@empresa.com  3456-7890         S.A.   195975 2024-01-18   \n",
       "\n",
       "   Nro_Cuenta        Ciudad       Pais  \n",
       "0      501400  Buenos Aires  Argentina  \n",
       "1      503100       Cordoba  Argentina  \n",
       "2      506100       Rosario  Argentina  "
      ]
     },
     "execution_count": 4,
     "metadata": {},
     "output_type": "execute_result"
    }
   ],
   "source": [
    "prov.head(3)"
   ]
  }
 ],
 "metadata": {
  "kernelspec": {
   "display_name": "Python 3",
   "language": "python",
   "name": "python3"
  },
  "language_info": {
   "codemirror_mode": {
    "name": "ipython",
    "version": 3
   },
   "file_extension": ".py",
   "mimetype": "text/x-python",
   "name": "python",
   "nbconvert_exporter": "python",
   "pygments_lexer": "ipython3",
   "version": "3.11.0"
  }
 },
 "nbformat": 4,
 "nbformat_minor": 2
}
