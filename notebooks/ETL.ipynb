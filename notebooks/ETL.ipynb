{
 "cells": [
  {
   "cell_type": "code",
   "execution_count": 1,
   "id": "2c6639d1",
   "metadata": {},
   "outputs": [],
   "source": [
    "import numpy as np\n",
    "import pandas as pd\n",
    "\n",
    "%load_ext autoreload\n",
    "%autoreload 2\n",
    "\n",
    "import resources as r\n"
   ]
  },
  {
   "cell_type": "code",
   "execution_count": 3,
   "id": "b75c076c",
   "metadata": {},
   "outputs": [],
   "source": [
    "prov = pd.read_excel('../data/raw/proveedores.xlsx')"
   ]
  },
  {
   "cell_type": "code",
   "execution_count": 2,
   "id": "d463644e",
   "metadata": {},
   "outputs": [],
   "source": [
    "det = pd.read_csv('../data/raw/Detalles_Ing_Egres.txt', sep= '\\t', encoding = 'latin1')"
   ]
  },
  {
   "cell_type": "code",
   "execution_count": 5,
   "id": "cc4ac0db",
   "metadata": {},
   "outputs": [],
   "source": [
    "don = pd.read_excel('../data/raw/donantes.xlsx')"
   ]
  },
  {
   "cell_type": "markdown",
   "id": "54635bd9",
   "metadata": {},
   "source": [
    "## Proveedores"
   ]
  },
  {
   "cell_type": "code",
   "execution_count": null,
   "id": "6b65ca02",
   "metadata": {},
   "outputs": [
    {
     "data": {
      "text/html": [
       "<div>\n",
       "<style scoped>\n",
       "    .dataframe tbody tr th:only-of-type {\n",
       "        vertical-align: middle;\n",
       "    }\n",
       "\n",
       "    .dataframe tbody tr th {\n",
       "        vertical-align: top;\n",
       "    }\n",
       "\n",
       "    .dataframe thead th {\n",
       "        text-align: right;\n",
       "    }\n",
       "</style>\n",
       "<table border=\"1\" class=\"dataframe\">\n",
       "  <thead>\n",
       "    <tr style=\"text-align: right;\">\n",
       "      <th></th>\n",
       "      <th>Número Proveedor</th>\n",
       "      <th>Nombre Proveedor</th>\n",
       "      <th>CUIT</th>\n",
       "      <th>Categor/a Proveedor</th>\n",
       "      <th>Tipo de Contribuyente</th>\n",
       "      <th>Observaciones</th>\n",
       "      <th>Contacto</th>\n",
       "      <th>Correo Electrónico</th>\n",
       "      <th>Teléfono</th>\n",
       "      <th>Razón Social</th>\n",
       "      <th>Importe</th>\n",
       "      <th>Fecha</th>\n",
       "      <th>Nro_Cuenta</th>\n",
       "      <th>Ciudad</th>\n",
       "      <th>Pais</th>\n",
       "    </tr>\n",
       "  </thead>\n",
       "  <tbody>\n",
       "    <tr>\n",
       "      <th>0</th>\n",
       "      <td>P00001</td>\n",
       "      <td>Proveedora S.A.</td>\n",
       "      <td>30-12345678-9</td>\n",
       "      <td>SERVIC/OS</td>\n",
       "      <td>RESPONSABLE INSCR/ITO</td>\n",
       "      <td>-</td>\n",
       "      <td>Juan Pérez</td>\n",
       "      <td>juan.perez@empresa.com</td>\n",
       "      <td>1234-5678</td>\n",
       "      <td>S.A.</td>\n",
       "      <td>171488</td>\n",
       "      <td>2024-03-18</td>\n",
       "      <td>501400</td>\n",
       "      <td>Buenos Aires</td>\n",
       "      <td>Argentina</td>\n",
       "    </tr>\n",
       "    <tr>\n",
       "      <th>1</th>\n",
       "      <td>P00002</td>\n",
       "      <td>Pedro González</td>\n",
       "      <td>30-87654321-0</td>\n",
       "      <td>SERVIC/OS</td>\n",
       "      <td>MONOTRIBUTISTA</td>\n",
       "      <td>-</td>\n",
       "      <td>Pedro González</td>\n",
       "      <td>pedro.gonzalez@correo.zom</td>\n",
       "      <td>2345-6789</td>\n",
       "      <td>S.R.L.</td>\n",
       "      <td>288255</td>\n",
       "      <td>2024-02-08</td>\n",
       "      <td>503100</td>\n",
       "      <td>Cordoba</td>\n",
       "      <td>Argentina</td>\n",
       "    </tr>\n",
       "    <tr>\n",
       "      <th>2</th>\n",
       "      <td>P00003</td>\n",
       "      <td>Empresa XYZ</td>\n",
       "      <td>30-13579246-3</td>\n",
       "      <td>MATER/IALES</td>\n",
       "      <td>RESPONSABLE INSCR/ITO</td>\n",
       "      <td>-</td>\n",
       "      <td>María López</td>\n",
       "      <td>maria.lopez@empresa.com</td>\n",
       "      <td>3456-7890</td>\n",
       "      <td>S.A.</td>\n",
       "      <td>195975</td>\n",
       "      <td>2024-01-18</td>\n",
       "      <td>506100</td>\n",
       "      <td>Rosario</td>\n",
       "      <td>Argentina</td>\n",
       "    </tr>\n",
       "    <tr>\n",
       "      <th>3</th>\n",
       "      <td>P00004</td>\n",
       "      <td>Servicios AB</td>\n",
       "      <td>30-24681357-2</td>\n",
       "      <td>AGENTE /MPOSITIVO</td>\n",
       "      <td>RESPONSAB/LE INSCRIPTO</td>\n",
       "      <td>-</td>\n",
       "      <td>Laura Ruiz</td>\n",
       "      <td>laura.ruiz@correo.zom</td>\n",
       "      <td>AR4567-8901</td>\n",
       "      <td>S.R.L.</td>\n",
       "      <td>158607</td>\n",
       "      <td>2024-03-09</td>\n",
       "      <td>509100</td>\n",
       "      <td>Mendoza</td>\n",
       "      <td>Argentina</td>\n",
       "    </tr>\n",
       "    <tr>\n",
       "      <th>4</th>\n",
       "      <td>P00005</td>\n",
       "      <td>Carlos Méndez</td>\n",
       "      <td>30-12345678-9</td>\n",
       "      <td>SERVIC/OS</td>\n",
       "      <td>MONOTRIBUTISTA</td>\n",
       "      <td>-</td>\n",
       "      <td>Carlos Méndez</td>\n",
       "      <td>carlos.mendez@correo.com</td>\n",
       "      <td>5678-9012</td>\n",
       "      <td>S.A.</td>\n",
       "      <td>238101</td>\n",
       "      <td>2024-03-28</td>\n",
       "      <td>516000</td>\n",
       "      <td>Buenos Aires</td>\n",
       "      <td>Argentina</td>\n",
       "    </tr>\n",
       "  </tbody>\n",
       "</table>\n",
       "</div>"
      ],
      "text/plain": [
       "  Número Proveedor Nombre Proveedor           CUIT Categor/a Proveedor  \\\n",
       "0           P00001  Proveedora S.A.  30-12345678-9           SERVIC/OS   \n",
       "1           P00002   Pedro González  30-87654321-0           SERVIC/OS   \n",
       "2           P00003      Empresa XYZ  30-13579246-3         MATER/IALES   \n",
       "3           P00004     Servicios AB  30-24681357-2   AGENTE /MPOSITIVO   \n",
       "4           P00005    Carlos Méndez  30-12345678-9           SERVIC/OS   \n",
       "\n",
       "    Tipo de Contribuyente Observaciones        Contacto  \\\n",
       "0   RESPONSABLE INSCR/ITO             -      Juan Pérez   \n",
       "1          MONOTRIBUTISTA             -  Pedro González   \n",
       "2   RESPONSABLE INSCR/ITO             -     María López   \n",
       "3  RESPONSAB/LE INSCRIPTO             -      Laura Ruiz   \n",
       "4          MONOTRIBUTISTA             -   Carlos Méndez   \n",
       "\n",
       "          Correo Electrónico     Teléfono Razón Social  Importe      Fecha  \\\n",
       "0     juan.perez@empresa.com    1234-5678         S.A.   171488 2024-03-18   \n",
       "1  pedro.gonzalez@correo.zom    2345-6789       S.R.L.   288255 2024-02-08   \n",
       "2    maria.lopez@empresa.com    3456-7890         S.A.   195975 2024-01-18   \n",
       "3      laura.ruiz@correo.zom  AR4567-8901       S.R.L.   158607 2024-03-09   \n",
       "4   carlos.mendez@correo.com    5678-9012         S.A.   238101 2024-03-28   \n",
       "\n",
       "   Nro_Cuenta        Ciudad       Pais  \n",
       "0      501400  Buenos Aires  Argentina  \n",
       "1      503100       Cordoba  Argentina  \n",
       "2      506100       Rosario  Argentina  \n",
       "3      509100       Mendoza  Argentina  \n",
       "4      516000  Buenos Aires  Argentina  "
      ]
     },
     "execution_count": 5,
     "metadata": {},
     "output_type": "execute_result"
    }
   ],
   "source": [
    "prov.head()"
   ]
  },
  {
   "cell_type": "markdown",
   "id": "2df49170",
   "metadata": {},
   "source": [
    " Por lo que podemos señalar en nuestra vista preliminar del dataset, contiene la informacion general de los proveedores de servicios, materiales y bienes de la organizacion, los importes de gastos realizados por dichos bienes/servicios, la fecha de pago de dicho importe y la informacion referida a la naturaleza del gasto realizado (utilizando los numeros de cuenta correspondientes)"
   ]
  },
  {
   "cell_type": "code",
   "execution_count": null,
   "id": "a9820873",
   "metadata": {},
   "outputs": [],
   "source": [
    "## descripcion general"
   ]
  },
  {
   "cell_type": "code",
   "execution_count": 8,
   "id": "1b488a75",
   "metadata": {},
   "outputs": [
    {
     "name": "stdout",
     "output_type": "stream",
     "text": [
      "<class 'pandas.core.frame.DataFrame'>\n",
      "RangeIndex: 373 entries, 0 to 372\n",
      "Data columns (total 15 columns):\n",
      " #   Column                 Non-Null Count  Dtype         \n",
      "---  ------                 --------------  -----         \n",
      " 0   Número Proveedor       373 non-null    object        \n",
      " 1   Nombre Proveedor       373 non-null    object        \n",
      " 2   CUIT                   373 non-null    object        \n",
      " 3   Categor/a Proveedor    373 non-null    object        \n",
      " 4   Tipo de Contribuyente  373 non-null    object        \n",
      " 5   Observaciones          373 non-null    object        \n",
      " 6   Contacto               373 non-null    object        \n",
      " 7   Correo Electrónico     373 non-null    object        \n",
      " 8   Teléfono               373 non-null    object        \n",
      " 9   Razón Social           373 non-null    object        \n",
      " 10  Importe                373 non-null    int64         \n",
      " 11  Fecha                  373 non-null    datetime64[ns]\n",
      " 12  Nro_Cuenta             373 non-null    int64         \n",
      " 13  Ciudad                 373 non-null    object        \n",
      " 14  Pais                   373 non-null    object        \n",
      "dtypes: datetime64[ns](1), int64(2), object(12)\n",
      "memory usage: 43.8+ KB\n"
     ]
    }
   ],
   "source": [
    "prov.info()"
   ]
  },
  {
   "cell_type": "code",
   "execution_count": null,
   "id": "bfc5f962",
   "metadata": {},
   "outputs": [],
   "source": [
    "## vemos valores nan"
   ]
  },
  {
   "cell_type": "code",
   "execution_count": null,
   "id": "a4556dff",
   "metadata": {},
   "outputs": [
    {
     "data": {
      "text/plain": [
       "Número Proveedor         0\n",
       "Nombre Proveedor         0\n",
       "CUIT                     0\n",
       "Categoria Proveedor      0\n",
       "Tipo de Contribuyente    0\n",
       "Observaciones            0\n",
       "Contacto                 0\n",
       "Correo Electrónico       0\n",
       "Teléfono                 0\n",
       "Razón Social             0\n",
       "Importe                  0\n",
       "Fecha                    0\n",
       "Nro_Cuenta               0\n",
       "Ciudad                   0\n",
       "Pais                     0\n",
       "dtype: int64"
      ]
     },
     "execution_count": 10,
     "metadata": {},
     "output_type": "execute_result"
    }
   ],
   "source": [
    "prov.isna().sum()\n",
    "# No cuenta con valores nan en ninguno de sus campos"
   ]
  },
  {
   "cell_type": "code",
   "execution_count": null,
   "id": "05b1c5ee",
   "metadata": {},
   "outputs": [],
   "source": [
    "## Listamos valores unicos y su cantidad respectiva a cada uno de los campos"
   ]
  },
  {
   "cell_type": "code",
   "execution_count": 6,
   "id": "36309415",
   "metadata": {},
   "outputs": [
    {
     "name": "stdout",
     "output_type": "stream",
     "text": [
      "cantidad de valores unicos de Número Proveedor: 68\n",
      "cantidad de valores unicos de Nombre Proveedor: 68\n",
      "cantidad de valores unicos de CUIT: 64\n",
      "cantidad de valores unicos de Categor/a Proveedor: 13\n",
      "cantidad de valores unicos de Tipo de Contribuyente: 6\n",
      "cantidad de valores unicos de Observaciones: 1\n",
      "cantidad de valores unicos de Contacto: 69\n",
      "cantidad de valores unicos de Correo Electrónico: 68\n",
      "cantidad de valores unicos de Teléfono: 39\n",
      "cantidad de valores unicos de Razón Social: 4\n",
      "cantidad de valores unicos de Importe: 344\n",
      "cantidad de valores unicos de Fecha: 287\n",
      "cantidad de valores unicos de Nro_Cuenta: 8\n",
      "cantidad de valores unicos de Ciudad: 42\n",
      "cantidad de valores unicos de Pais: 1\n",
      "\n",
      "\n",
      "conjunto de valores unicos de Número Proveedor: ['P00135', 'P00118', 'P00133', 'P00148', 'P00127', 'P00141', 'P00150', 'P00010', 'P00012', 'P00116', 'P00139', 'P00142', 'P00015', 'P00113', 'P00117', 'P00114', 'P00008', 'P00107', 'P00136', 'P00106', 'P00112', 'P00111', 'P00144', 'P00004', 'P00017', 'P00126', 'P00147', 'P00120', 'P00128', 'P00121', 'P00105', 'P00125', 'P00016', 'P00124', 'P00014', 'P00145', 'P00129', 'P00123', 'P00013', 'P00149', 'P00108', 'P00115', 'P00109', 'P00132', 'P00101', 'P00005', 'P00119', 'P00137', 'P00138', 'P00143', 'P00001', 'P00146', 'P00134', 'P00110', 'P00007', 'P00104', 'P00011', 'P00103', 'P00131', 'P00009', 'P00002', 'P00130', 'P00140', 'P00018', 'P00102', 'P00003', 'P00006', 'P00122']\n",
      "conjunto de valores unicos de Nombre Proveedor: ['Mariana Gómez', 'Pablo Díaz', 'Compañía Beta', 'Daniel Morales', 'Sofía Martínez', 'Manuel Fernández', 'Consultora Zeta', 'Andrés Ruiz', 'Eduardo Reyes', 'Fernando Gómez', 'Diego Fernández', 'Patricia Rivas', 'Manuel Rodríguez', 'Servicios AB', 'Jorge Herrera', 'Valeria Ortega', 'Empresa XYZ', 'Clara Jiménez', 'Marketing Global', 'Julio Fernández', 'Alejandro Rivas', 'Roberto Cruz', 'Pedro López', 'Ernesto Ruiz', 'Verónica Martínez', 'Fernando Reyes', ' Carlos Méndez', 'Juan Castillo', 'Isabel Ramírez', 'Carlos Fernández', 'Roberto Díaz', 'Carla Medina', 'Ricardo López', 'Grupo Alfa', 'Juliana Pérez', 'Luis Martínez', 'Laura Pérez', 'Marcela Jiménez', 'Javier López', 'Proveedora S.A.', 'Ana Sánchez', 'Laura Fernández', 'Gabriel López', 'Camila Martínez', 'Soluciones Gama', 'Proveedor Ltda.', 'Fernanda García', 'María González', 'Javier González', 'Pedro González', 'Silvia Ramírez', 'Pablo Vargas', 'Patricia Gómez', 'Gabriela Martínez', 'Estudio Jurídico Alfa', 'Javier Ramírez', 'Laura Castillo', 'Sofía Castro', 'Ana Rodríguez', 'Luis Gómez', 'Valentina Ortega', 'Nicolás Castillo', 'Repuestos Omega', 'Santiago López', 'Rosa Pérez', 'Daniela Fernández', 'Claudia Sánchez', 'Gabriela Torres']\n",
      "conjunto de valores unicos de CUIT: ['20-01234567-4', '23-87654329-8', '33-90123456-3', '30-97531246-1', '30-45678901-2', '23-34567890-1', '33-90123456-0', '27-78901234-9', '20-87654321-2', '33-45678901-8', '30-19283746-4', '30-32165487-0', '30-12345679-8', '33-65432198-7', '30-97531247-8', '33-12345678-9', '27-78901234-6', '27-12345678-9', '23-98765432-4', '33-45678901-2', '27-23456789-1', '20-56789012-3', '20-87654322-3', '30-87654321-0', '20-12345678-9', '20-98765432-9', '23-87654323-6', '30-12345678-9', '30-65432198-7', '27-23456789-6', '33-76543219-7', '23-89012345-9', '30-98765434-2', '27-98765432-5', '20-34567890-1', '23-45678901-3', '33-56789012-6', '30-98765432-5', '30-19283747-0', '30-67890123-4', '27-76543210-6', '30-86430976-9', '27-87654321-0', '23-89012346-2', '30-24681357-2', '30-13579246-3', '30-98765432-1', '27-23456789-4', '20-56789012-5', '30-24681358-6', '30-65432109-8', '30-74859632-7', '30-76543214-8', '33-76543218-9', '30-34567890-3', '30-12345678-5', 30135792487, '33-56789012-4', '20-23456789-1', '23-87654320-5', '23-45678901-7', '23-34567890-7', '30-67890123-6', '27-23456789-3']\n",
      "conjunto de valores unicos de Categor/a Proveedor: ['MATER/IALES', 'AGENTE /MPOSITIVO', 'Energía Renovable', 'Construcción', 'Energía Solar', 'Agroindustria', 'Energía Eólica', 'Consultoría', 'Transporte', 'Tecnología', 'Consultoría IT', 'Software', 'SERVIC/OS']\n",
      "conjunto de valores unicos de Tipo de Contribuyente: ['Monotributista', 'MONOTRIBUTISTA', 'IVA Responsable', 'RESPONSAB/LE INSCRIPTO', 'RESPONSABLE INSCR/ITO', 'Responsable Inscripto']\n",
      "conjunto de valores unicos de Observaciones: ['-']\n",
      "conjunto de valores unicos de Contacto: ['Mariana Gómez', 'Pablo Díaz', 'Daniel Morales', 'Sofía Martínez', 'Manuel Fernández', 'Andrés Ruiz', 'Eduardo Reyes', 'Natalia Gómez', 'Diego Fernández', 'Carlos Méndez', 'María Hernández', 'Alberto Fernández', 'Patricia Rivas', 'Manuel Rodríguez', 'Jorge Herrera', 'Valeria Ortega', 'María López', 'Clara Jiménez', 'Alejandro Rivas', 'Julio Fernández', 'Roberto Cruz', 'Pedro López', 'Ernesto Ruiz', 'Verónica Martínez', 'Laura Martínez', 'Fernando Reyes', ' Carlos Méndez', 'Juan Castillo', 'Isabel Ramírez', 'Carlos Fernández', 'Roberto Díaz', 'Carla Medina', 'Ricardo López', 'Laura Ruiz', 'Juliana Pérez', 'Luis Martínez', 'Laura Pérez', 'Marcela Jiménez', 'Javier López', ' Sergio Castro', 'Ana Sánchez', 'Laura Fernández', 'Gabriel López', 'Camila Martínez', 'Fernanda García', 'María González', 'Javier González', 'Pedro González', 'Silvia Ramírez', ' Fernando Gómez', 'Pablo Vargas', 'Patricia Gómez', 'Gabriela Martínez', 'Javier Martínez', 'Javier Ramírez', 'Laura Castillo', 'Sofía Castro', 'Juan Pérez', 'Gabriela Gómez', 'Ana Rodríguez', 'Luis Gómez', 'Valentina Ortega', 'Nicolás Castillo', ' Laura Sánchez', 'Santiago López', 'Rosa Pérez', 'Daniela Fernández', 'Claudia Sánchez', 'Gabriela Torres']\n",
      "conjunto de valores unicos de Correo Electrónico: ['maria.lopez@empresa.com', 'luis.martinez@empresa.xyz', 'daniela.fernandez@empresa.uvw', 'carlos.mendez@correo.com', 'valentina.ortega@empresa.stu', 'laura.martinez@empresa.zom', 'javier.martinez@empresa.com', 'jorge.herrera@empresa.bcd', 'isabel.ramirez@empresa.bef', 'laura.fernandez@empresa.ghi', 'ernesto.ruiz@empresa.nop', 'carla.medina@empresa.qrs', 'manuel.fernandez@empresa.tuv', 'daniel.morales@empresa.vwx', 'juliana.perez@empresa.stu', 'julio.fernandez@correo.zom', 'ana.rodriguez@empresa.abc', 'pablo.vargas@empresa.def', 'javier.gonzalez@empresa.jkl', 'juan.castillo@empresa.tuv', 'pablo.diaz@empresa.zab', 'gabriel.lopez@empresa.uvw', 'fernando.reyes@empresa.pqr', 'javier.ramirez@empresa.pqr', 'gabriela.torres@empresa.yza', 'laura.sanchez@empresa.zom', 'andres.ruiz@empresa.tuv', 'pedro.gonzalez@correo.zom', 'laura.castillo@empresa.mno', 'rosa.perez@correo.zom', 'ricardo.lopez@empresa.xyz', 'eduardo.reyes@empresa.jkl', 'javier.lopez@correo.zom', 'sergio.castro@correo.zom', 'gabriela.gomez@empresa.com', 'sofia.castro@empresa.uvw', 'manuel.rodriguez@empresa.def', 'laura.perez@empresa.mno', 'marcela.jimenez@empresa.abc', 'patricia.gomez@empresa.klm', 'veronica.martinez@empresa.stu', 'camila.martinez@empresa.ghi', 'maria.hernandez@correo.com', 'ana.sanchez@correo.com', 'santiago.lopez@empresa.jkl', 'clara.jimenez@empresa.ghi', 'alejandro.rivas@empresa.pqr', 'diego.fernandez@empresa.uvw', 'fernanda.garcia@empresa.mno', 'silvia.ramirez@empresa.efg', 'natalia.gomez@empresa.com', 'claudia.sanchez@empresa.stu', 'sofia.martinez@empresa.wxy', 'luis.gomez@empresa.xyz', 'laura.ruiz@correo.zom', 'juan.perez@empresa.com', 'gabriela.martinez@empresa.abc', 'carlos.fernandez@empresa.def', 'nicolas.castillo@empresa.pqr', 'mariana.gomez@empresa.xyz', 'valeria.ortega@empresa.qrs', 'patricia.rivas@empresa.mno', 'alberto.fernandez@empresa.zom', 'maria.gonzalez@empresa.ghi', 'roberto.diaz@empresa.def', 'pedro.lopez@empresa.jkl', 'roberto.cruz@empresa.hij', 'fernando.gomez@correo.zom']\n",
      "conjunto de valores unicos de Teléfono: ['7890-1234', 'AR4567-8901', '0123-5678', '0567-8901', '0777-5678', '0123-4567', '0123-6789', '2345-6789', '0345-9998', '0123-9876', '0889-6543', '1234-5678', '0555-4321', '0912-3456', '0890-1234', '0345-6789', '0666-2345', '0123-7654', '0555-2345', '0678-3456', '0889-7654', '0678-9012', '0777-7654', 'AR6789-0123', '0999-1234', '9012-3456', '6789-0123', '3456-7890', '8901-2345', '0555-9876', '0765-3456', '0111-2345', '4567-8901', '0789-0123', '0765-4321', '0999-2345', '0999-9876', '0456-7890', '5678-9012']\n",
      "conjunto de valores unicos de Razón Social: ['S.R.L.', 'Cooperativa', 'Sociedad Anónima', 'S.A.']\n",
      "conjunto de valores unicos de Importe: [141315, 241670, 57351, 36878, 233493, 235544, 225311, 94240, 239664, 84017, 135225, 251963, 184382, 73794, 12373, 192599, 120929, 10352, 88185, 157821, 57471, 129158, 88206, 256144, 151708, 190624, 235688, 28845, 233659, 252093, 266431, 43202, 59591, 241869, 22735, 176341, 121055, 26855, 221445, 10509, 129304, 200989, 110878, 143655, 20782, 117043, 18742, 137527, 299321, 229698, 53588, 10587, 221537, 22903, 31099, 72059, 16770, 295302, 291211, 90516, 45468, 51622, 209335, 295351, 256449, 285123, 98759, 201168, 113111, 61912, 39393, 12770, 143848, 195051, 215535, 295412, 88564, 139765, 59893, 168444, 182791, 25100, 238101, 231968, 277032, 64042, 109099, 119340, 90675, 211512, 170553, 170554, 148032, 143944, 100941, 47698, 49747, 66132, 70237, 156276, 262781, 281214, 223875, 57988, 64138, 74389, 191131, 47776, 43682, 211622, 271022, 94895, 152240, 158384, 148154, 12989, 219837, 115392, 41665, 94918, 217800, 172745, 193225, 82635, 277194, 164567, 13020, 127726, 74480, 35574, 277243, 121607, 109321, 199434, 217867, 47892, 248599, 113452, 295728, 125746, 70453, 273206, 172873, 133962, 37706, 183119, 232274, 291670, 50006, 262998, 211801, 248673, 260964, 207725, 248690, 193408, 158607, 179093, 109470, 11195, 136125, 91071, 269252, 134090, 166866, 164820, 52184, 138216, 218095, 113663, 257036, 35853, 283665, 201749, 279575, 175139, 111656, 246839, 230465, 97345, 244816, 218194, 130133, 29783, 97376, 173152, 269410, 289894, 164974, 291963, 224379, 183419, 58494, 269442, 279688, 253069, 109710, 285851, 228513, 136358, 212134, 124078, 140463, 85168, 11442, 83142, 130253, 93391, 60625, 101610, 118002, 212213, 46325, 232698, 296190, 249088, 128265, 85257, 152846, 175383, 228649, 273713, 195892, 50488, 152895, 249165, 200021, 66906, 251228, 189803, 52591, 253296, 122240, 75137, 146818, 202116, 195975, 103821, 140691, 30101, 222631, 222635, 91564, 89516, 71101, 150974, 175561, 228821, 171488, 257510, 239084, 60909, 288255, 175620, 124428, 259600, 19987, 179746, 48679, 128552, 26156, 13869, 122441, 218705, 280161, 194151, 110198, 30337, 226947, 296580, 61059, 16006, 130696, 147083, 229019, 272036, 149161, 42668, 216757, 79543, 26298, 24251, 243396, 198341, 280267, 14028, 151245, 132812, 157396, 42714, 247527, 151274, 44782, 255727, 104176, 192247, 212736, 280320, 81679, 268049, 288537, 149277, 24358, 91956, 220987, 198463, 26434, 108357, 126804, 79707, 153447, 288617, 237422, 247663, 161646, 278387, 63352, 153467, 34695, 98184, 247694, 14222, 214933, 167832, 102297, 294815, 298913, 165797, 173998, 247726, 251833, 282553, 153534, 106432, 202693, 135113, 145362, 131033, 198619, 139242, 186346, 288754, 159738, 249854]\n",
      "conjunto de valores unicos de Fecha: [Timestamp('2019-01-25 00:00:00'), Timestamp('2024-06-04 00:00:00'), Timestamp('2020-09-01 00:00:00'), Timestamp('2021-01-04 00:00:00'), Timestamp('2020-09-22 00:00:00'), Timestamp('2022-10-07 00:00:00'), Timestamp('2020-06-04 00:00:00'), Timestamp('2023-10-01 00:00:00'), Timestamp('2021-01-07 00:00:00'), Timestamp('2020-04-07 00:00:00'), Timestamp('2019-07-01 00:00:00'), Timestamp('2022-09-22 00:00:00'), Timestamp('2019-04-22 00:00:00'), Timestamp('2019-02-08 00:00:00'), Timestamp('2019-03-16 00:00:00'), Timestamp('2023-10-19 00:00:00'), Timestamp('2020-02-22 00:00:00'), Timestamp('2023-11-13 00:00:00'), Timestamp('2023-10-13 00:00:00'), Timestamp('2020-04-01 00:00:00'), Timestamp('2019-04-07 00:00:00'), Timestamp('2023-01-01 00:00:00'), Timestamp('2019-05-04 00:00:00'), Timestamp('2020-10-01 00:00:00'), Timestamp('2019-01-05 00:00:00'), Timestamp('2020-07-22 00:00:00'), Timestamp('2022-10-10 00:00:00'), Timestamp('2024-04-10 00:00:00'), Timestamp('2020-12-22 00:00:00'), Timestamp('2019-02-02 00:00:00'), Timestamp('2024-03-05 00:00:00'), Timestamp('2021-01-10 00:00:00'), Timestamp('2019-05-25 00:00:00'), Timestamp('2023-11-07 00:00:00'), Timestamp('2020-09-13 00:00:00'), Timestamp('2020-09-25 00:00:00'), Timestamp('2024-01-21 00:00:00'), Timestamp('2023-11-01 00:00:00'), Timestamp('2020-11-19 00:00:00'), Timestamp('2023-01-10 00:00:00'), Timestamp('2020-03-11 00:00:00'), Timestamp('2020-03-26 00:00:00'), Timestamp('2023-01-27 00:00:00'), Timestamp('2023-10-22 00:00:00'), Timestamp('2019-03-25 00:00:00'), Timestamp('2019-07-04 00:00:00'), Timestamp('2020-05-28 00:00:00'), Timestamp('2022-09-28 00:00:00'), Timestamp('2023-02-17 00:00:00'), Timestamp('2023-01-22 00:00:00'), Timestamp('2019-06-13 00:00:00'), Timestamp('2024-01-28 00:00:00'), Timestamp('2020-01-14 00:00:00'), Timestamp('2023-03-01 00:00:00'), Timestamp('2020-04-16 00:00:00'), Timestamp('2020-08-25 00:00:00'), Timestamp('2019-04-01 00:00:00'), Timestamp('2019-02-14 00:00:00'), Timestamp('2020-12-01 00:00:00'), Timestamp('2020-07-25 00:00:00'), Timestamp('2024-02-01 00:00:00'), Timestamp('2019-06-28 00:00:00'), Timestamp('2022-10-16 00:00:00'), Timestamp('2024-02-08 00:00:00'), Timestamp('2019-04-25 00:00:00'), Timestamp('2022-10-22 00:00:00'), Timestamp('2022-10-04 00:00:00'), Timestamp('2020-04-19 00:00:00'), Timestamp('2021-02-28 00:00:00'), Timestamp('2019-04-28 00:00:00'), Timestamp('2020-01-20 00:00:00'), Timestamp('2020-05-01 00:00:00'), Timestamp('2020-11-25 00:00:00'), Timestamp('2020-09-28 00:00:00'), Timestamp('2020-01-08 00:00:00'), Timestamp('2024-06-03 00:00:00'), Timestamp('2021-03-04 00:00:00'), Timestamp('2020-07-19 00:00:00'), Timestamp('2020-01-17 00:00:00'), Timestamp('2020-02-07 00:00:00'), Timestamp('2019-06-25 00:00:00'), Timestamp('2019-02-26 00:00:00'), Timestamp('2024-05-19 00:00:00'), Timestamp('2020-08-22 00:00:00'), Timestamp('2020-03-08 00:00:00'), Timestamp('2023-01-12 00:00:00'), Timestamp('2024-06-12 00:00:00'), Timestamp('2020-07-07 00:00:00'), Timestamp('2019-06-04 00:00:00'), Timestamp('2022-09-25 00:00:00'), Timestamp('2019-01-15 00:00:00'), Timestamp('2020-12-19 00:00:00'), Timestamp('2020-12-10 00:00:00'), Timestamp('2021-03-01 00:00:00'), Timestamp('2020-07-04 00:00:00'), Timestamp('2020-09-04 00:00:00'), Timestamp('2021-01-13 00:00:00'), Timestamp('2022-10-19 00:00:00'), Timestamp('2019-04-13 00:00:00'), Timestamp('2019-01-27 00:00:00'), Timestamp('2020-11-01 00:00:00'), Timestamp('2019-05-07 00:00:00'), Timestamp('2020-04-25 00:00:00'), Timestamp('2020-05-25 00:00:00'), Timestamp('2020-08-13 00:00:00'), Timestamp('2019-04-10 00:00:00'), Timestamp('2023-11-04 00:00:00'), Timestamp('2024-03-06 00:00:00'), Timestamp('2019-03-28 00:00:00'), Timestamp('2023-02-14 00:00:00'), Timestamp('2019-05-16 00:00:00'), Timestamp('2019-05-28 00:00:00'), Timestamp('2020-05-04 00:00:00'), Timestamp('2020-01-11 00:00:00'), Timestamp('2020-05-19 00:00:00'), Timestamp('2021-02-22 00:00:00'), Timestamp('2020-12-07 00:00:00'), Timestamp('2019-03-10 00:00:00'), Timestamp('2020-07-10 00:00:00'), Timestamp('2021-02-07 00:00:00'), Timestamp('2023-01-17 00:00:00'), Timestamp('2020-05-22 00:00:00'), Timestamp('2021-01-01 00:00:00'), Timestamp('2020-06-16 00:00:00'), Timestamp('2023-02-08 00:00:00'), Timestamp('2019-06-19 00:00:00'), Timestamp('2019-03-13 00:00:00'), Timestamp('2020-08-01 00:00:00'), Timestamp('2020-03-17 00:00:00'), Timestamp('2023-02-26 00:00:00'), Timestamp('2021-01-28 00:00:00'), Timestamp('2019-02-11 00:00:00'), Timestamp('2020-10-13 00:00:00'), Timestamp('2019-05-19 00:00:00'), Timestamp('2020-11-13 00:00:00'), Timestamp('2020-08-07 00:00:00'), Timestamp('2020-08-04 00:00:00'), Timestamp('2020-09-16 00:00:00'), Timestamp('2020-12-28 00:00:00'), Timestamp('2019-03-01 00:00:00'), Timestamp('2022-11-17 00:00:00'), Timestamp('2020-12-25 00:00:00'), Timestamp('2024-01-18 00:00:00'), Timestamp('2024-04-14 00:00:00'), Timestamp('2020-10-19 00:00:00'), Timestamp('2020-11-16 00:00:00'), Timestamp('2020-08-19 00:00:00'), Timestamp('2019-04-16 00:00:00'), Timestamp('2019-01-22 00:00:00'), Timestamp('2024-05-24 00:00:00'), Timestamp('2021-02-16 00:00:00'), Timestamp('2021-01-22 00:00:00'), Timestamp('2019-02-20 00:00:00'), Timestamp('2020-03-05 00:00:00'), Timestamp('2020-11-04 00:00:00'), Timestamp('2021-01-25 00:00:00'), Timestamp('2020-08-16 00:00:00'), Timestamp('2024-03-18 00:00:00'), Timestamp('2020-01-26 00:00:00'), Timestamp('2023-01-07 00:00:00'), Timestamp('2023-02-23 00:00:00'), Timestamp('2020-10-10 00:00:00'), Timestamp('2020-05-10 00:00:00'), Timestamp('2020-08-28 00:00:00'), Timestamp('2020-10-07 00:00:00'), Timestamp('2020-03-02 00:00:00'), Timestamp('2019-06-10 00:00:00'), Timestamp('2022-11-18 00:00:00'), Timestamp('2019-03-22 00:00:00'), Timestamp('2019-03-07 00:00:00'), Timestamp('2024-05-01 00:00:00'), Timestamp('2020-10-28 00:00:00'), Timestamp('2020-01-05 00:00:00'), Timestamp('2020-07-13 00:00:00'), Timestamp('2020-06-19 00:00:00'), Timestamp('2020-06-07 00:00:00'), Timestamp('2020-03-14 00:00:00'), Timestamp('2019-01-07 00:00:00'), Timestamp('2019-01-30 00:00:00'), Timestamp('2020-05-07 00:00:00'), Timestamp('2019-01-17 00:00:00'), Timestamp('2020-10-25 00:00:00'), Timestamp('2020-01-29 00:00:00'), Timestamp('2019-06-01 00:00:00'), Timestamp('2019-05-13 00:00:00'), Timestamp('2023-10-10 00:00:00'), Timestamp('2024-06-19 00:00:00'), Timestamp('2019-02-17 00:00:00'), Timestamp('2023-01-15 00:00:00'), Timestamp('2021-02-19 00:00:00'), Timestamp('2019-02-05 00:00:00'), Timestamp('2019-06-07 00:00:00'), Timestamp('2019-06-16 00:00:00'), Timestamp('2022-10-13 00:00:00'), Timestamp('2019-01-20 00:00:00'), Timestamp('2023-01-20 00:00:00'), Timestamp('2022-10-01 00:00:00'), Timestamp('2020-08-10 00:00:00'), Timestamp('2023-02-11 00:00:00'), Timestamp('2021-02-25 00:00:00'), Timestamp('2024-05-06 00:00:00'), Timestamp('2023-02-05 00:00:00'), Timestamp('2023-10-28 00:00:00'), Timestamp('2019-01-01 00:00:00'), Timestamp('2021-02-04 00:00:00'), Timestamp('2020-11-28 00:00:00'), Timestamp('2020-09-19 00:00:00'), Timestamp('2020-01-23 00:00:00'), Timestamp('2020-02-04 00:00:00'), Timestamp('2024-03-09 00:00:00'), Timestamp('2020-06-13 00:00:00'), Timestamp('2023-01-25 00:00:00'), Timestamp('2020-07-16 00:00:00'), Timestamp('2020-04-10 00:00:00'), Timestamp('2019-01-12 00:00:00'), Timestamp('2020-02-19 00:00:00'), Timestamp('2023-01-05 00:00:00'), Timestamp('2021-02-13 00:00:00'), Timestamp('2019-05-01 00:00:00'), Timestamp('2020-10-16 00:00:00'), Timestamp('2020-11-10 00:00:00'), Timestamp('2024-01-15 00:00:00'), Timestamp('2020-09-07 00:00:00'), Timestamp('2023-11-10 00:00:00'), Timestamp('2020-02-01 00:00:00'), Timestamp('2020-12-16 00:00:00'), Timestamp('2020-10-22 00:00:00'), Timestamp('2020-02-10 00:00:00'), Timestamp('2020-04-04 00:00:00'), Timestamp('2020-05-13 00:00:00'), Timestamp('2020-05-16 00:00:00'), Timestamp('2020-04-22 00:00:00'), Timestamp('2020-02-25 00:00:00'), Timestamp('2020-03-23 00:00:00'), Timestamp('2020-04-13 00:00:00'), Timestamp('2024-01-09 00:00:00'), Timestamp('2021-01-19 00:00:00'), Timestamp('2019-05-10 00:00:00'), Timestamp('2023-10-25 00:00:00'), Timestamp('2019-01-10 00:00:00'), Timestamp('2019-06-22 00:00:00'), Timestamp('2023-10-04 00:00:00'), Timestamp('2022-10-25 00:00:00'), Timestamp('2020-12-04 00:00:00'), Timestamp('2023-01-03 00:00:00'), Timestamp('2019-04-04 00:00:00'), Timestamp('2020-03-29 00:00:00'), Timestamp('2020-02-16 00:00:00'), Timestamp('2020-09-10 00:00:00'), Timestamp('2024-04-09 00:00:00'), Timestamp('2024-03-28 00:00:00'), Timestamp('2021-02-01 00:00:00'), Timestamp('2020-02-28 00:00:00'), Timestamp('2024-05-02 00:00:00'), Timestamp('2020-11-07 00:00:00'), Timestamp('2020-10-04 00:00:00'), Timestamp('2023-10-07 00:00:00'), Timestamp('2020-11-22 00:00:00'), Timestamp('2024-01-20 00:00:00'), Timestamp('2019-02-23 00:00:00'), Timestamp('2023-10-16 00:00:00'), Timestamp('2020-06-01 00:00:00'), Timestamp('2020-06-28 00:00:00'), Timestamp('2024-01-03 00:00:00'), Timestamp('2023-01-30 00:00:00'), Timestamp('2020-04-28 00:00:00'), Timestamp('2020-06-22 00:00:00'), Timestamp('2020-02-13 00:00:00'), Timestamp('2021-02-10 00:00:00'), Timestamp('2024-02-04 00:00:00'), Timestamp('2023-03-04 00:00:00'), Timestamp('2020-07-01 00:00:00'), Timestamp('2020-12-13 00:00:00'), Timestamp('2019-03-19 00:00:00'), Timestamp('2020-06-10 00:00:00'), Timestamp('2020-03-20 00:00:00'), Timestamp('2019-01-03 00:00:00'), Timestamp('2021-01-16 00:00:00'), Timestamp('2023-02-20 00:00:00'), Timestamp('2019-03-04 00:00:00'), Timestamp('2020-06-25 00:00:00'), Timestamp('2020-01-02 00:00:00'), Timestamp('2023-02-02 00:00:00'), Timestamp('2020-07-28 00:00:00'), Timestamp('2019-04-19 00:00:00'), Timestamp('2019-05-22 00:00:00'), Timestamp('2021-03-07 00:00:00')]\n",
      "conjunto de valores unicos de Nro_Cuenta: [516000, 509100, 507100, 506100, 514100, 502100, 501400, 503100]\n",
      "conjunto de valores unicos de Ciudad: ['Villa María', 'Merlo', 'Neuquén', 'General Roca', 'San Fernando', 'Oberá', 'Buenos Aires', 'Rio Gallegos', 'Luján', 'Formosa', 'Rafaela', 'Chaco', 'San Nicolás', 'Villa Allende', 'Junín', 'Mar del Plata', 'Calafate', 'Villa Carlos Paz', 'San Fernando del Valle de Catamarca', 'La Plata', 'San Luis', 'San Miguel de Tucumán', 'Rawson', 'San Rafael', 'Santiago del Estero', 'San Martín', 'Bahía Blanca', 'Gualeguaychú', 'San Juan', 'San Pedro', 'Santa Fe', 'Trelew', 'Río Grande', 'Rosario', 'Viedma', 'Resistencia', 'Mendoza', 'Salta', 'Posadas', 'Jujuy', 'Cordoba', 'Río Cuarto']\n",
      "conjunto de valores unicos de Pais: ['Argentina']\n"
     ]
    }
   ],
   "source": [
    "for column in prov.columns:\n",
    "    columna = list(set(prov[column]))\n",
    "    print(f'cantidad de valores unicos de {column}: {len(columna)}')\n",
    "    \n",
    "print()\n",
    "print()\n",
    "\n",
    "for column in prov.columns:\n",
    "    columna = list(set(prov[column]))\n",
    "    print(f'conjunto de valores unicos de {column}: {columna}')"
   ]
  },
  {
   "cell_type": "code",
   "execution_count": null,
   "id": "a88795b2",
   "metadata": {},
   "outputs": [],
   "source": [
    "# definimos formato y nomenclatura unica para valores en los respectivos campos del dataframe tomando en cuenta campos analogos en otros datasets\n",
    "\n",
    "# Nomenclatura en campo Número Proveedor: 'P00135'...\n",
    "# Nomenclatura en campo Nombre Proveedor: 'Mariana Gómez', 'Pablo Díaz'...\n",
    "# Nomenclatura en campo CUIT: '20-01234567-4', '23-87654329-8'... \n",
    "# Nomenclatura en campo Categor/a Proveedor: 'Energía Renovable', 'Construcción'...\n",
    "# Nomenclatura en campo Tipo de Contribuyente: 'Responsable Inscripto', 'Monotributista'\n",
    "# Nomenclatura en campo Observaciones: '-'\n",
    "# Nomenclatura en campo Contacto: 'Mariana Gómez', 'Pablo Díaz'...\n",
    "# Nomenclatura en campo Correo Electrónico: 'maria.lopez@empresa.com'...\n",
    "# Nomenclatura en campo Teléfono: '0123-5678', '0567-8901'...\n",
    "# Nomenclatura en campo Razón Social: 'S.R.L.', 'Cooperativa', 'S.A.'\n",
    "# Nomenclatura en campo Importe: 141315, 241670,...\n",
    "# Nomenclatura en campo Fecha: '2019-01-25'...\n",
    "# Nomenclatura en campo Nro_Cuenta: 516000, 509100,...\n",
    "# Nomenclatura en campo Ciudad: 'Villa María', 'Merlo'...\n",
    "# Nomenclatura en campo Pais: 'Argentina'"
   ]
  },
  {
   "cell_type": "code",
   "execution_count": null,
   "id": "d9fccfbd",
   "metadata": {},
   "outputs": [],
   "source": [
    "# La columna 'Observaciones' no contiene informacion relevante, por lo q sera eliminada\n",
    "# en campo 'Nombre' se debe formatear los espacios antes y despues de los nombres, y obviar de la validacion (es decir, que son validos) los puntos de las abreviaturas y/o siglas\n",
    "# En 'CUIT' se debe agregar el separador '-' en el numero entre el segundo y tercer digito y entre el ultimo y penultimo digito de los valores que no contengan ambos\n",
    "# En 'categoria' y 'Tipo de Contribuyente' se debe reemplazar el caracter '/' por la letra que correcponda en la cadena o, en los casos que no se deba reemplazar, se debe eliminar. Tambien se deben formatear los espacios en blanco antes y despues de la cadena de texto.\n",
    "# En 'Tipo de Contribuyente se debe tambien unificar una sola nomenclatura para los mismos valores (por ejemplo, entre los valores 'IVA Responsable' y 'Responsable Inscripto')\n",
    "# En 'Contacto' se debe formatear los espacios en blanco antes y despues de la cadena de texto.\n",
    "# En 'Telefono' se debe formatear los telefonos que cuenten con el prefijo 'AR' en su numero, y formatear espacios en blanco antes y despues de la cadena de texto\n",
    "# En 'Razon Social' se debe unificar la nomenclatura de los valores que requieran (por ejemplo, S.A. y Sociedad Anonima)\n",
    "# En la columna 'Ciudad' se debe formatear los espacios en blanco antes y despues de la cadena de texto.\n"
   ]
  },
  {
   "cell_type": "code",
   "execution_count": 5,
   "id": "abe69abb",
   "metadata": {},
   "outputs": [],
   "source": [
    "# vamos a cambiar la etiqueta de columna de Categor/a Proveedor\n",
    "prov = prov.rename(columns= {'Categor/a Proveedor': 'Categoria Proveedor'})"
   ]
  },
  {
   "cell_type": "code",
   "execution_count": 6,
   "id": "a8a21f92",
   "metadata": {},
   "outputs": [
    {
     "name": "stdout",
     "output_type": "stream",
     "text": [
      "Todos los datos tienen el formato correcto\n"
     ]
    }
   ],
   "source": [
    "r.validar_nro(prov, 'Número Proveedor')"
   ]
  },
  {
   "cell_type": "code",
   "execution_count": 13,
   "id": "8edb70a2",
   "metadata": {},
   "outputs": [
    {
     "name": "stdout",
     "output_type": "stream",
     "text": [
      "Existen datos con formato incorrecto\n",
      "0    Proveedora S.A.\n",
      "2        Empresa XYZ\n",
      "3       Servicios AB\n",
      "4      Carlos Méndez\n",
      "5      Carlos Méndez\n",
      "Name: Nombre Proveedor, dtype: object\n"
     ]
    }
   ],
   "source": [
    "r.validar_nombre(prov, 'Nombre Proveedor')"
   ]
  },
  {
   "cell_type": "code",
   "execution_count": 15,
   "id": "ddec0bb7",
   "metadata": {},
   "outputs": [
    {
     "name": "stdout",
     "output_type": "stream",
     "text": [
      "Existen datos con formato incorrecto\n",
      "19    30135792487\n",
      "20    30135792487\n",
      "Name: CUIT, dtype: object\n"
     ]
    }
   ],
   "source": [
    "r.validar_cuit(prov, 'CUIT')"
   ]
  },
  {
   "cell_type": "code",
   "execution_count": 12,
   "id": "de4464ca",
   "metadata": {},
   "outputs": [
    {
     "name": "stdout",
     "output_type": "stream",
     "text": [
      "Existen datos con formato incorrecto\n",
      "0             SERVIC/OS\n",
      "1             SERVIC/OS\n",
      "2           MATER/IALES\n",
      "3     AGENTE /MPOSITIVO\n",
      "4             SERVIC/OS\n",
      "5             SERVIC/OS\n",
      "6             SERVIC/OS\n",
      "7             SERVIC/OS\n",
      "8     AGENTE /MPOSITIVO\n",
      "9     AGENTE /MPOSITIVO\n",
      "10          MATER/IALES\n",
      "11          MATER/IALES\n",
      "12            SERVIC/OS\n",
      "13            SERVIC/OS\n",
      "14    AGENTE /MPOSITIVO\n",
      "15            SERVIC/OS\n",
      "16            SERVIC/OS\n",
      "17            SERVIC/OS\n",
      "18            SERVIC/OS\n",
      "19          MATER/IALES\n",
      "20          MATER/IALES\n",
      "21    AGENTE /MPOSITIVO\n",
      "22    AGENTE /MPOSITIVO\n",
      "23            SERVIC/OS\n",
      "24            SERVIC/OS\n",
      "25          MATER/IALES\n",
      "26          MATER/IALES\n",
      "27            SERVIC/OS\n",
      "28            SERVIC/OS\n",
      "Name: Categoria Proveedor, dtype: object\n"
     ]
    }
   ],
   "source": [
    "r.validar_categoria(prov)"
   ]
  },
  {
   "cell_type": "code",
   "execution_count": 10,
   "id": "f9fa52fb",
   "metadata": {},
   "outputs": [
    {
     "name": "stdout",
     "output_type": "stream",
     "text": [
      "Existen datos con formato incorrecto\n",
      "0       RESPONSABLE INSCR/ITO\n",
      "2       RESPONSABLE INSCR/ITO\n",
      "3      RESPONSAB/LE INSCRIPTO\n",
      "6      RESPONSAB/LE INSCRIPTO\n",
      "7       RESPONSABLE INSCR/ITO\n",
      "                ...          \n",
      "368           IVA Responsable\n",
      "369           IVA Responsable\n",
      "370           IVA Responsable\n",
      "371           IVA Responsable\n",
      "372           IVA Responsable\n",
      "Name: Tipo de Contribuyente, Length: 202, dtype: object\n",
      "Los tipos de contribuyentes son los siguientes:\n",
      " {'IVA Responsable', 'RESPONSABLE INSCR/ITO', 'MONOTRIBUTISTA', 'RESPONSAB/LE INSCRIPTO', 'Responsable Inscripto', 'Monotributista'}\n"
     ]
    }
   ],
   "source": [
    "r.validar_tipo_contribuyente(prov, 'Tipo de Contribuyente')"
   ]
  },
  {
   "cell_type": "code",
   "execution_count": 6,
   "id": "56a366dd",
   "metadata": {},
   "outputs": [
    {
     "name": "stdout",
     "output_type": "stream",
     "text": [
      "Existen datos con formato incorrecto\n",
      "4       Carlos Méndez\n",
      "10     Fernando Gómez\n",
      "11     Fernando Gómez\n",
      "17      Sergio Castro\n",
      "18      Sergio Castro\n",
      "27      Laura Sánchez\n",
      "28      Laura Sánchez\n",
      "Name: Contacto, dtype: object\n"
     ]
    }
   ],
   "source": [
    "r.validar_contacto(prov)"
   ]
  },
  {
   "cell_type": "code",
   "execution_count": 4,
   "id": "633673b5",
   "metadata": {},
   "outputs": [
    {
     "name": "stdout",
     "output_type": "stream",
     "text": [
      "Todos los nombres de contacto tienen el formato correcto\n"
     ]
    }
   ],
   "source": [
    "r.validar_correo(prov, 'Correo Electrónico')"
   ]
  },
  {
   "cell_type": "code",
   "execution_count": 10,
   "id": "a86afb85",
   "metadata": {},
   "outputs": [
    {
     "name": "stdout",
     "output_type": "stream",
     "text": [
      "Existen datos con formato incorrecto\n",
      "3     AR4567-8901\n",
      "23    AR6789-0123\n",
      "24    AR6789-0123\n",
      "Name: Teléfono, dtype: object\n"
     ]
    }
   ],
   "source": [
    "r.validar_telefono(prov)"
   ]
  },
  {
   "cell_type": "code",
   "execution_count": 13,
   "id": "d3633bad",
   "metadata": {},
   "outputs": [
    {
     "name": "stdout",
     "output_type": "stream",
     "text": [
      "Existen datos con formato incorrecto o valores incorrectos\n",
      "{'Sociedad Anónima'}\n"
     ]
    }
   ],
   "source": [
    "r.validar_razonsocial(prov)"
   ]
  },
  {
   "cell_type": "code",
   "execution_count": 14,
   "id": "5acafea2",
   "metadata": {},
   "outputs": [
    {
     "name": "stdout",
     "output_type": "stream",
     "text": [
      "Todos los datos tienen el formato correcto\n"
     ]
    }
   ],
   "source": [
    "r.validar_importe(prov)"
   ]
  },
  {
   "cell_type": "code",
   "execution_count": 7,
   "id": "c6d3ca4c",
   "metadata": {},
   "outputs": [
    {
     "name": "stdout",
     "output_type": "stream",
     "text": [
      "Todas las fechas estan en formato correcto y son validas\n"
     ]
    }
   ],
   "source": [
    "r.validar_fecha(prov)"
   ]
  },
  {
   "cell_type": "code",
   "execution_count": 10,
   "id": "00269b2e",
   "metadata": {},
   "outputs": [
    {
     "name": "stdout",
     "output_type": "stream",
     "text": [
      "Todos los datos tienen formato correcto\n"
     ]
    }
   ],
   "source": [
    "r.validar_nrocuenta(prov)"
   ]
  },
  {
   "cell_type": "code",
   "execution_count": 11,
   "id": "82b6aa9e",
   "metadata": {},
   "outputs": [
    {
     "name": "stdout",
     "output_type": "stream",
     "text": [
      "Existen ciudades con formato incorrecto\n",
      "0               Buenos Aires\n",
      "4               Buenos Aires\n",
      "5               Buenos Aires\n",
      "6      San Miguel de Tucumán\n",
      "7              Mar del Plata\n",
      "               ...          \n",
      "368              Villa María\n",
      "369              Villa María\n",
      "370              Villa María\n",
      "371              Villa María\n",
      "372              Villa María\n",
      "Name: Ciudad, Length: 219, dtype: object\n"
     ]
    }
   ],
   "source": [
    "r.validar_ciudad(prov)"
   ]
  },
  {
   "cell_type": "code",
   "execution_count": 12,
   "id": "5c37ce94",
   "metadata": {},
   "outputs": [
    {
     "name": "stdout",
     "output_type": "stream",
     "text": [
      "Todos los datos tienen formato correcto y son correctos\n"
     ]
    }
   ],
   "source": [
    "r.validar_pais(prov)"
   ]
  },
  {
   "cell_type": "markdown",
   "id": "df083e5a",
   "metadata": {},
   "source": [
    "## Donantes"
   ]
  },
  {
   "cell_type": "code",
   "execution_count": 5,
   "id": "b21484ea",
   "metadata": {},
   "outputs": [
    {
     "data": {
      "text/html": [
       "<div>\n",
       "<style scoped>\n",
       "    .dataframe tbody tr th:only-of-type {\n",
       "        vertical-align: middle;\n",
       "    }\n",
       "\n",
       "    .dataframe tbody tr th {\n",
       "        vertical-align: top;\n",
       "    }\n",
       "\n",
       "    .dataframe thead th {\n",
       "        text-align: right;\n",
       "    }\n",
       "</style>\n",
       "<table border=\"1\" class=\"dataframe\">\n",
       "  <thead>\n",
       "    <tr style=\"text-align: right;\">\n",
       "      <th></th>\n",
       "      <th>Numero</th>\n",
       "      <th>Nombre</th>\n",
       "      <th>Tipo</th>\n",
       "      <th>Contacto</th>\n",
       "      <th>Cargo</th>\n",
       "      <th>Correo Electrónico</th>\n",
       "      <th>Telefono</th>\n",
       "      <th>Observaciones</th>\n",
       "      <th>Razon Social</th>\n",
       "      <th>Tipo de Contribuyente</th>\n",
       "      <th>CUIT</th>\n",
       "      <th>Alta</th>\n",
       "      <th>Baja</th>\n",
       "      <th>Activo</th>\n",
       "      <th>Frecuencia</th>\n",
       "      <th>Fecha_Donación</th>\n",
       "      <th>Importe</th>\n",
       "      <th>Nro de Cuenta</th>\n",
       "    </tr>\n",
       "  </thead>\n",
       "  <tbody>\n",
       "    <tr>\n",
       "      <th>0</th>\n",
       "      <td>D00108</td>\n",
       "      <td>Iniciativa Solidaria</td>\n",
       "      <td>Empresa</td>\n",
       "      <td>Contacto C</td>\n",
       "      <td>-</td>\n",
       "      <td>iniciativasolidaria@mail.com</td>\n",
       "      <td>(+)55 5747-7433</td>\n",
       "      <td>Observación D</td>\n",
       "      <td>SAS</td>\n",
       "      <td>Monotributista</td>\n",
       "      <td>24-91224120-6</td>\n",
       "      <td>2022-10-04</td>\n",
       "      <td>2024-08-20</td>\n",
       "      <td>NO</td>\n",
       "      <td>Bimestral</td>\n",
       "      <td>2022-10-04</td>\n",
       "      <td>281342</td>\n",
       "      <td>404100</td>\n",
       "    </tr>\n",
       "    <tr>\n",
       "      <th>1</th>\n",
       "      <td>D00108</td>\n",
       "      <td>Iniciativa Solidaria</td>\n",
       "      <td>Empresa</td>\n",
       "      <td>Contacto C</td>\n",
       "      <td>-</td>\n",
       "      <td>iniciativasolidaria@mail.com</td>\n",
       "      <td>(+)55 5747-7433</td>\n",
       "      <td>Observación D</td>\n",
       "      <td>SAS</td>\n",
       "      <td>Monotributista</td>\n",
       "      <td>24-91224120-6</td>\n",
       "      <td>2022-10-04</td>\n",
       "      <td>2024-08-20</td>\n",
       "      <td>NO</td>\n",
       "      <td>Bimestral</td>\n",
       "      <td>2022-12-04</td>\n",
       "      <td>383818</td>\n",
       "      <td>404100</td>\n",
       "    </tr>\n",
       "    <tr>\n",
       "      <th>2</th>\n",
       "      <td>D00108</td>\n",
       "      <td>Iniciativa Solidaria</td>\n",
       "      <td>Empresa</td>\n",
       "      <td>Contacto C</td>\n",
       "      <td>-</td>\n",
       "      <td>iniciativasolidaria@mail.com</td>\n",
       "      <td>(+)55 5747-7433</td>\n",
       "      <td>Observación D</td>\n",
       "      <td>SAS</td>\n",
       "      <td>Monotributista</td>\n",
       "      <td>24-91224120-6</td>\n",
       "      <td>2022-10-04</td>\n",
       "      <td>2024-08-20</td>\n",
       "      <td>NO</td>\n",
       "      <td>Bimestral</td>\n",
       "      <td>2023-02-04</td>\n",
       "      <td>217763</td>\n",
       "      <td>404100</td>\n",
       "    </tr>\n",
       "    <tr>\n",
       "      <th>3</th>\n",
       "      <td>D00108</td>\n",
       "      <td>Iniciativa Solidaria</td>\n",
       "      <td>Empresa</td>\n",
       "      <td>Contacto C</td>\n",
       "      <td>-</td>\n",
       "      <td>iniciativasolidaria@mail.com</td>\n",
       "      <td>(+)55 5747-7433</td>\n",
       "      <td>Observación D</td>\n",
       "      <td>SAS</td>\n",
       "      <td>Monotributista</td>\n",
       "      <td>24-91224120-6</td>\n",
       "      <td>2022-10-04</td>\n",
       "      <td>2024-08-20</td>\n",
       "      <td>NO</td>\n",
       "      <td>Bimestral</td>\n",
       "      <td>2023-04-04</td>\n",
       "      <td>424093</td>\n",
       "      <td>404100</td>\n",
       "    </tr>\n",
       "    <tr>\n",
       "      <th>4</th>\n",
       "      <td>D00108</td>\n",
       "      <td>Iniciativa Solidaria</td>\n",
       "      <td>Empresa</td>\n",
       "      <td>Contacto C</td>\n",
       "      <td>-</td>\n",
       "      <td>iniciativasolidaria@mail.com</td>\n",
       "      <td>(+)55 5747-7433</td>\n",
       "      <td>Observación D</td>\n",
       "      <td>SAS</td>\n",
       "      <td>Monotributista</td>\n",
       "      <td>24-91224120-6</td>\n",
       "      <td>2022-10-04</td>\n",
       "      <td>2024-08-20</td>\n",
       "      <td>NO</td>\n",
       "      <td>Bimestral</td>\n",
       "      <td>2023-06-04</td>\n",
       "      <td>191399</td>\n",
       "      <td>404100</td>\n",
       "    </tr>\n",
       "  </tbody>\n",
       "</table>\n",
       "</div>"
      ],
      "text/plain": [
       "   Numero                Nombre     Tipo    Contacto Cargo  \\\n",
       "0  D00108  Iniciativa Solidaria  Empresa  Contacto C     -   \n",
       "1  D00108  Iniciativa Solidaria  Empresa  Contacto C     -   \n",
       "2  D00108  Iniciativa Solidaria  Empresa  Contacto C     -   \n",
       "3  D00108  Iniciativa Solidaria  Empresa  Contacto C     -   \n",
       "4  D00108  Iniciativa Solidaria  Empresa  Contacto C     -   \n",
       "\n",
       "             Correo Electrónico         Telefono  Observaciones Razon Social  \\\n",
       "0  iniciativasolidaria@mail.com  (+)55 5747-7433  Observación D          SAS   \n",
       "1  iniciativasolidaria@mail.com  (+)55 5747-7433  Observación D          SAS   \n",
       "2  iniciativasolidaria@mail.com  (+)55 5747-7433  Observación D          SAS   \n",
       "3  iniciativasolidaria@mail.com  (+)55 5747-7433  Observación D          SAS   \n",
       "4  iniciativasolidaria@mail.com  (+)55 5747-7433  Observación D          SAS   \n",
       "\n",
       "  Tipo de Contribuyente           CUIT       Alta       Baja Activo  \\\n",
       "0        Monotributista  24-91224120-6 2022-10-04 2024-08-20     NO   \n",
       "1        Monotributista  24-91224120-6 2022-10-04 2024-08-20     NO   \n",
       "2        Monotributista  24-91224120-6 2022-10-04 2024-08-20     NO   \n",
       "3        Monotributista  24-91224120-6 2022-10-04 2024-08-20     NO   \n",
       "4        Monotributista  24-91224120-6 2022-10-04 2024-08-20     NO   \n",
       "\n",
       "  Frecuencia Fecha_Donación  Importe  Nro de Cuenta  \n",
       "0  Bimestral     2022-10-04   281342         404100  \n",
       "1  Bimestral     2022-12-04   383818         404100  \n",
       "2  Bimestral     2023-02-04   217763         404100  \n",
       "3  Bimestral     2023-04-04   424093         404100  \n",
       "4  Bimestral     2023-06-04   191399         404100  "
      ]
     },
     "execution_count": 5,
     "metadata": {},
     "output_type": "execute_result"
    }
   ],
   "source": [
    "don.head()"
   ]
  },
  {
   "cell_type": "code",
   "execution_count": 6,
   "id": "0908c7bc",
   "metadata": {},
   "outputs": [
    {
     "name": "stdout",
     "output_type": "stream",
     "text": [
      "<class 'pandas.core.frame.DataFrame'>\n",
      "RangeIndex: 499 entries, 0 to 498\n",
      "Data columns (total 18 columns):\n",
      " #   Column                 Non-Null Count  Dtype         \n",
      "---  ------                 --------------  -----         \n",
      " 0   Numero                 499 non-null    object        \n",
      " 1   Nombre                 499 non-null    object        \n",
      " 2   Tipo                   499 non-null    object        \n",
      " 3   Contacto               499 non-null    object        \n",
      " 4   Cargo                  499 non-null    object        \n",
      " 5   Correo Electrónico     499 non-null    object        \n",
      " 6   Telefono               499 non-null    object        \n",
      " 7   Observaciones          499 non-null    object        \n",
      " 8   Razon Social           494 non-null    object        \n",
      " 9   Tipo de Contribuyente  499 non-null    object        \n",
      " 10  CUIT                   499 non-null    object        \n",
      " 11  Alta                   499 non-null    datetime64[ns]\n",
      " 12  Baja                   158 non-null    datetime64[ns]\n",
      " 13  Activo                 499 non-null    object        \n",
      " 14  Frecuencia             499 non-null    object        \n",
      " 15  Fecha_Donación         499 non-null    datetime64[ns]\n",
      " 16  Importe                499 non-null    int64         \n",
      " 17  Nro de Cuenta          499 non-null    int64         \n",
      "dtypes: datetime64[ns](3), int64(2), object(13)\n",
      "memory usage: 70.3+ KB\n"
     ]
    }
   ],
   "source": [
    "don.info()"
   ]
  },
  {
   "cell_type": "code",
   "execution_count": null,
   "id": "53528a4b",
   "metadata": {},
   "outputs": [
    {
     "data": {
      "text/plain": [
       "Numero                     0\n",
       "Nombre                     0\n",
       "Tipo                       0\n",
       "Contacto                   0\n",
       "Cargo                      0\n",
       "Correo Electrónico         0\n",
       "Telefono                   0\n",
       "Observaciones              0\n",
       "Razon Social               5\n",
       "Tipo de Contribuyente      0\n",
       "CUIT                       0\n",
       "Alta                       0\n",
       "Baja                     341\n",
       "Activo                     0\n",
       "Frecuencia                 0\n",
       "Fecha_Donación             0\n",
       "Importe                    0\n",
       "Nro de Cuenta              0\n",
       "dtype: int64"
      ]
     },
     "execution_count": 12,
     "metadata": {},
     "output_type": "execute_result"
    }
   ],
   "source": [
    "don.isna().sum()\n",
    "# existen valores nan en columna 'Baja' y en columna 'Razon Social'"
   ]
  },
  {
   "cell_type": "code",
   "execution_count": 13,
   "id": "563acd24",
   "metadata": {},
   "outputs": [
    {
     "name": "stdout",
     "output_type": "stream",
     "text": [
      "cantidad de valores unicos de Numero: 33\n",
      "cantidad de valores unicos de Nombre: 33\n",
      "cantidad de valores unicos de Tipo: 6\n",
      "cantidad de valores unicos de Contacto: 32\n",
      "cantidad de valores unicos de Cargo: 1\n",
      "cantidad de valores unicos de Correo Electrónico: 33\n",
      "cantidad de valores unicos de Telefono: 27\n",
      "cantidad de valores unicos de Observaciones: 26\n",
      "cantidad de valores unicos de Razon Social: 8\n",
      "cantidad de valores unicos de Tipo de Contribuyente: 4\n",
      "cantidad de valores unicos de CUIT: 33\n",
      "cantidad de valores unicos de Alta: 28\n",
      "cantidad de valores unicos de Baja: 10\n",
      "cantidad de valores unicos de Activo: 3\n",
      "cantidad de valores unicos de Frecuencia: 5\n",
      "cantidad de valores unicos de Fecha_Donación: 391\n",
      "cantidad de valores unicos de Importe: 498\n",
      "cantidad de valores unicos de Nro de Cuenta: 3\n",
      "\n",
      "\n",
      "conjunto de valores unicos de Numero: ['D00132', 'D00125', 'D00121', 'D00127', 'D00124', 'D00128', 'D00129', 'D00136', 'D00120', 'D00109', 'D00130', 'D00133', 'D00111', 'D00116', 'D00117', 'D00113', 'D00108', 'D00123', 'D00135', 'D00115', 'D00138', 'D00141', 'D00114', 'D00112', 'D00126', 'D00142', 'D00131', 'D00140', 'D00137', 'D00139', 'D00110', 'D00134', 'D00122']\n",
      "conjunto de valores unicos de Nombre: ['Logística Global S.R.L.', 'Energía Sustentable S.A.', 'Apoyo Social Universal', 'Innovatech Solutions', 'Proyecto Gubernamental', 'TechGreen Innovación S.R.L.', 'Futuro Corporativo', 'Soluciones VerdeVida', 'Mercado Popular', 'Innovación Global S.A.', 'Corporación NovaTech', 'Energía Futuro S.A.', 'Merendero Solidario', 'Empresas FuturoBrillante', 'VíaVerde', 'Bebidas S.A', 'Fundación UniCorp', 'Latinoamerica Crece', 'Supermercado Vegano SRL', 'Global Energies S.A.', 'Iniciativa Solidaria', 'Ministerio de Acción Comunitaria', 'EcoTransporte S.A.', 'TecnoAvanzado S.R.L.', 'Innovación Solar S.A.', 'InnovaLogix S.A.', 'Servicios Plus', 'Apoyo Logistico S.A.', 'Universidad del Sur', 'Automoviles Full', 'AgroIndustrias del Sur', 'Horizonte Ecológico', 'El Parque SRL']\n",
      "conjunto de valores unicos de Tipo: ['Agroindustria', 'Campaña', 'ONG', 'Tecnología', 'Estado', 'Empresa']\n",
      "conjunto de valores unicos de Contacto: ['Contacto ASEE', 'Contacto ATS', 'Contacto RCO', 'Contacto AHH', 'Contacto GH', 'Contacto VDS', 'Contacto ESD', 'Contacto A', 'Contacto AET', 'Contacto IT', 'Contacto VG', 'Contacto GHY', '-', 'Contacto AT', 'Contacto AWW', 'Contacto E', 'Contacto ZVS', 'Contacto DSF', 'Contacto C', 'Contacto AK', 'Contacto B', 'Contacto ATEC', 'Contacto AIS', 'Contacto V', 'Contacto ALG', 'Contacto AEF', 'Contacto ASD', 'Contacto AAS', 'Contacto ATG', 'Contacto VS', 'Contacto DDD', 'Contacto AES']\n",
      "conjunto de valores unicos de Cargo: ['-']\n",
      "conjunto de valores unicos de Correo Electrónico: ['carla.fernandez@innovalogix.com', 'solidario@mail.com', 'laura.perez@futurobrillante.com', 'latinoamerica_crece@example.com', 'bebidassa@mail.com', 'innovatechsolutions@mail.com', 'juan.rodriguez@horizonteecologico.com', 'apoyologisticosa@mail.com', 'maria.lopez@energiasfuturo.com', 'luis.gonzalez@ecoplus.com', 'afull@mail.com', 'mercadopopular@example.com', 'laura.garcia@agroindustrias.com', 'apoyosocialuniversal@example.com', 'parque@mail.com', 'supermercadovegano@mail.com', 'julia.martinez@innovacionsolar.com', 'maria.lopez@energiasustentable.com', 'proyectogubernamental@mail.com', 'roberto.sanchez@tecnoavanzado.com', 'global@logisticaglobal.com', 'carlos.martinez@innovacionglobal.com', 'eco@viaverde.com', 'gerencia@novatech.com', 'futurocorporativo@mail.com', 'iniciativasolidaria@mail.com', 'ana.solis@verdevida.com', 'universidadds@mail.com', 'marta.gonzalez@unicorp.org', 'globalenergiess.a.@example.net', 'fernando.lopez@ecotransporte.com', 'accióncomunitaria@mail.com', 'tech@techgreeninnovacion.com']\n",
      "conjunto de valores unicos de Telefono: ['(+)55 21 9876 5432', '(+)56 9 7654 3210', '(+)598 5550-9219', '(+)57 300 123 4567', '(+)57 301 234 5678', '(+)591 5550-9224', '(+)55 5747-7433', '(+)54 9 11 8765 4321', '(+)54 9 11 8765 5588', '(+)52 55 1234 5678', '(+)58 5550-9222', '(+)54 5263-2378', '(+)55 5550-9219', '(595) 5030-0105', '(+)57 300 876 5432', '(+)595 5380-3426', '(+)598 5503-7127', '(+)56 9 8765 4321', '(+)598 5550-9221', '(+)51 5550-9220', '(+)56 5550-9223', '(+)55 301 234 5678', '(+)591 5550-9225', '(+)52 55 1234 4324', '(+)54 9 11 6543 2109', '(+)54 9 11 4567 8901', '(+)54 9 11 1234 5678']\n",
      "conjunto de valores unicos de Observaciones: ['Observación O', 'Observación DED', 'Observación TT', 'Observación DRF', 'Observación IIAA', 'Observación OA', 'Observación DAS', 'Observación D', '-', 'Observación DG', 'Observación OO', 'Observación PP', 'Observación MM', 'Observación QQ', 'Observación A', 'Observación NN', 'Observación II', 'Observación 175', 'Observación SSA', 'Observación', 'Observación IIA', 'Observación DD', 'Observación SS', 'Observación GG', 'Observación DE', 'Observación C']\n",
      "conjunto de valores unicos de Razon Social: ['S.A', 'ONG', '-', 'GOB', 'SAS', nan, 'SRL', 'SA']\n",
      "conjunto de valores unicos de Tipo de Contribuyente: ['Monotributista', 'Exento', 'Responsable Inscripto', 'IVA Responsable Inscripto']\n",
      "conjunto de valores unicos de CUIT: ['29-75196406-1', '20-12345678-9', '24-72582356-8', '30-99887766-7', '20-22334455-6', '30-33675566-8', '24-78912356-7', '29-38793456-3', '30-67891234-7', '25-36901514-8', '33-11223344-5', '27-75193456-1', '34-01712356-6', '30-45765232-2', '34-38765566-0', '20-98765432-1', '30-34567890-2', '24-91224120-6', '30-98765432-1', '33-12345678-9', '34-01712356-5', '24-34193456-2', '33-56789012-4', '27-23456789-1', '23-45678901-3', '29-01265476-14', '25-67890123-0', '27-65432109-8', '21-38712356-4', '27-23783266-6', '24-56588769-6', '30-33445566-7', '27-78434109-9']\n",
      "conjunto de valores unicos de Alta: [Timestamp('2022-06-05 00:00:00'), Timestamp('2020-01-21 00:00:00'), Timestamp('2024-01-01 00:00:00'), Timestamp('2022-10-04 00:00:00'), Timestamp('2020-01-24 00:00:00'), Timestamp('2024-04-01 00:00:00'), Timestamp('2018-01-26 00:00:00'), Timestamp('2024-02-03 00:00:00'), Timestamp('2024-02-02 00:00:00'), Timestamp('2024-01-04 00:00:00'), Timestamp('2018-12-23 00:00:00'), Timestamp('2022-04-01 00:00:00'), Timestamp('2020-12-22 00:00:00'), Timestamp('2019-08-13 00:00:00'), Timestamp('2021-01-02 00:00:00'), Timestamp('2019-08-09 00:00:00'), Timestamp('2023-01-02 00:00:00'), Timestamp('2020-01-01 00:00:00'), Timestamp('2022-01-21 00:00:00'), Timestamp('2019-12-02 00:00:00'), Timestamp('2018-01-01 00:00:00'), Timestamp('2024-02-01 00:00:00'), Timestamp('2021-01-01 00:00:00'), Timestamp('2023-01-01 00:00:00'), Timestamp('2022-01-01 00:00:00'), Timestamp('2023-01-25 00:00:00'), Timestamp('2020-05-02 00:00:00'), Timestamp('2024-02-05 00:00:00')]\n",
      "conjunto de valores unicos de Baja: [NaT, Timestamp('2023-12-31 00:00:00'), Timestamp('2023-12-01 00:00:00'), Timestamp('2024-06-01 00:00:00'), Timestamp('2024-07-01 00:00:00'), Timestamp('2023-01-03 00:00:00'), Timestamp('2024-05-30 00:00:00'), Timestamp('2024-08-20 00:00:00'), Timestamp('2021-12-25 00:00:00'), Timestamp('2024-02-02 00:00:00')]\n",
      "conjunto de valores unicos de Activo: ['SI', 'Si', 'NO']\n",
      "conjunto de valores unicos de Frecuencia: ['Bimestral', 'Anual', 'Semestral', 'Trimestral', 'Mensual']\n",
      "conjunto de valores unicos de Fecha_Donación: [Timestamp('2022-10-05 00:00:00'), Timestamp('2021-03-01 00:00:00'), Timestamp('2021-12-06 00:00:00'), Timestamp('2023-09-22 00:00:00'), Timestamp('2020-09-03 00:00:00'), Timestamp('2023-07-05 00:00:00'), Timestamp('2024-08-28 00:00:00'), Timestamp('2022-04-01 00:00:00'), Timestamp('2021-04-24 00:00:00'), Timestamp('2023-02-04 00:00:00'), Timestamp('2021-01-24 00:00:00'), Timestamp('2022-03-24 00:00:00'), Timestamp('2023-09-19 00:00:00'), Timestamp('2024-02-01 00:00:00'), Timestamp('2023-10-01 00:00:00'), Timestamp('2024-08-04 00:00:00'), Timestamp('2021-10-05 00:00:00'), Timestamp('2022-05-10 00:00:00'), Timestamp('2024-06-04 00:00:00'), Timestamp('2022-09-19 00:00:00'), Timestamp('2020-01-03 00:00:00'), Timestamp('2024-06-30 00:00:00'), Timestamp('2023-09-25 00:00:00'), Timestamp('2023-02-06 00:00:00'), Timestamp('2020-10-05 00:00:00'), Timestamp('2020-08-04 00:00:00'), Timestamp('2020-04-24 00:00:00'), Timestamp('2023-04-04 00:00:00'), Timestamp('2021-03-22 00:00:00'), Timestamp('2024-01-04 00:00:00'), Timestamp('2021-08-24 00:00:00'), Timestamp('2023-12-03 00:00:00'), Timestamp('2018-01-03 00:00:00'), Timestamp('2021-09-22 00:00:00'), Timestamp('2021-08-05 00:00:00'), Timestamp('2023-05-21 00:00:00'), Timestamp('2024-03-03 00:00:00'), Timestamp('2023-01-01 00:00:00'), Timestamp('2023-03-08 00:00:00'), Timestamp('2021-02-16 00:00:00'), Timestamp('2023-06-03 00:00:00'), Timestamp('2024-01-02 00:00:00'), Timestamp('2021-10-26 00:00:00'), Timestamp('2021-12-24 00:00:00'), Timestamp('2024-09-01 00:00:00'), Timestamp('2022-09-24 00:00:00'), Timestamp('2024-03-19 00:00:00'), Timestamp('2024-02-15 00:00:00'), Timestamp('2023-01-05 00:00:00'), Timestamp('2022-04-05 00:00:00'), Timestamp('2020-06-03 00:00:00'), Timestamp('2023-04-22 00:00:00'), Timestamp('2019-08-09 00:00:00'), Timestamp('2020-01-01 00:00:00'), Timestamp('2023-10-12 00:00:00'), Timestamp('2022-12-05 00:00:00'), Timestamp('2024-01-05 00:00:00'), Timestamp('2022-07-21 00:00:00'), Timestamp('2024-09-05 00:00:00'), Timestamp('2023-03-05 00:00:00'), Timestamp('2021-07-27 00:00:00'), Timestamp('2022-12-03 00:00:00'), Timestamp('2024-05-23 00:00:00'), Timestamp('2024-02-09 00:00:00'), Timestamp('2020-04-12 00:00:00'), Timestamp('2022-11-11 00:00:00'), Timestamp('2022-06-24 00:00:00'), Timestamp('2023-06-04 00:00:00'), Timestamp('2020-11-24 00:00:00'), Timestamp('2023-02-05 00:00:00'), Timestamp('2023-06-30 00:00:00'), Timestamp('2021-03-04 00:00:00'), Timestamp('2024-08-23 00:00:00'), Timestamp('2024-05-01 00:00:00'), Timestamp('2023-09-18 00:00:00'), Timestamp('2021-02-10 00:00:00'), Timestamp('2022-04-16 00:00:00'), Timestamp('2022-10-24 00:00:00'), Timestamp('2021-06-24 00:00:00'), Timestamp('2020-12-24 00:00:00'), Timestamp('2023-11-05 00:00:00'), Timestamp('2023-10-07 00:00:00'), Timestamp('2024-06-05 00:00:00'), Timestamp('2023-12-23 00:00:00'), Timestamp('2022-10-07 00:00:00'), Timestamp('2021-05-10 00:00:00'), Timestamp('2022-06-22 00:00:00'), Timestamp('2022-08-04 00:00:00'), Timestamp('2023-01-07 00:00:00'), Timestamp('2022-11-20 00:00:00'), Timestamp('2023-06-05 00:00:00'), Timestamp('2022-02-22 00:00:00'), Timestamp('2021-06-19 00:00:00'), Timestamp('2022-10-01 00:00:00'), Timestamp('2019-03-15 00:00:00'), Timestamp('2024-07-15 00:00:00'), Timestamp('2024-05-12 00:00:00'), Timestamp('2021-06-28 00:00:00'), Timestamp('2022-05-12 00:00:00'), Timestamp('2022-10-14 00:00:00'), Timestamp('2020-08-24 00:00:00'), Timestamp('2022-07-05 00:00:00'), Timestamp('2020-12-02 00:00:00'), Timestamp('2024-03-17 00:00:00'), Timestamp('2023-08-03 00:00:00'), Timestamp('2024-08-03 00:00:00'), Timestamp('2022-11-23 00:00:00'), Timestamp('2022-02-09 00:00:00'), Timestamp('2022-09-23 00:00:00'), Timestamp('2024-02-18 00:00:00'), Timestamp('2020-10-24 00:00:00'), Timestamp('2020-10-10 00:00:00'), Timestamp('2022-07-04 00:00:00'), Timestamp('2023-08-26 00:00:00'), Timestamp('2021-02-23 00:00:00'), Timestamp('2020-06-24 00:00:00'), Timestamp('2022-03-07 00:00:00'), Timestamp('2022-01-04 00:00:00'), Timestamp('2022-06-09 00:00:00'), Timestamp('2023-11-01 00:00:00'), Timestamp('2022-11-05 00:00:00'), Timestamp('2023-09-05 00:00:00'), Timestamp('2023-04-25 00:00:00'), Timestamp('2024-06-22 00:00:00'), Timestamp('2024-02-17 00:00:00'), Timestamp('2022-08-07 00:00:00'), Timestamp('2021-01-02 00:00:00'), Timestamp('2023-11-21 00:00:00'), Timestamp('2024-07-22 00:00:00'), Timestamp('2024-03-21 00:00:00'), Timestamp('2021-01-01 00:00:00'), Timestamp('2023-10-03 00:00:00'), Timestamp('2024-07-01 00:00:00'), Timestamp('2023-07-19 00:00:00'), Timestamp('2020-02-24 00:00:00'), Timestamp('2023-01-19 00:00:00'), Timestamp('2023-09-01 00:00:00'), Timestamp('2024-04-01 00:00:00'), Timestamp('2023-12-30 00:00:00'), Timestamp('2022-08-09 00:00:00'), Timestamp('2024-02-02 00:00:00'), Timestamp('2018-12-23 00:00:00'), Timestamp('2023-02-22 00:00:00'), Timestamp('2021-07-14 00:00:00'), Timestamp('2019-07-23 00:00:00'), Timestamp('2020-12-25 00:00:00'), Timestamp('2021-02-05 00:00:00'), Timestamp('2023-07-10 00:00:00'), Timestamp('2018-07-15 00:00:00'), Timestamp('2023-03-21 00:00:00'), Timestamp('2023-04-05 00:00:00'), Timestamp('2019-12-02 00:00:00'), Timestamp('2024-05-05 00:00:00'), Timestamp('2022-09-05 00:00:00'), Timestamp('2023-05-18 00:00:00'), Timestamp('2023-05-12 00:00:00'), Timestamp('2022-02-24 00:00:00'), Timestamp('2021-09-19 00:00:00'), Timestamp('2020-02-05 00:00:00'), Timestamp('2022-03-01 00:00:00'), Timestamp('2023-10-22 00:00:00'), Timestamp('2022-09-21 00:00:00'), Timestamp('2021-05-01 00:00:00'), Timestamp('2022-03-03 00:00:00'), Timestamp('2024-03-12 00:00:00'), Timestamp('2024-05-10 00:00:00'), Timestamp('2021-08-23 00:00:00'), Timestamp('2022-04-21 00:00:00'), Timestamp('2019-01-08 00:00:00'), Timestamp('2021-10-11 00:00:00'), Timestamp('2021-06-05 00:00:00'), Timestamp('2021-01-18 00:00:00'), Timestamp('2023-12-05 00:00:00'), Timestamp('2022-05-24 00:00:00'), Timestamp('2024-03-01 00:00:00'), Timestamp('2019-08-13 00:00:00'), Timestamp('2021-03-07 00:00:00'), Timestamp('2022-01-21 00:00:00'), Timestamp('2021-01-22 00:00:00'), Timestamp('2022-02-14 00:00:00'), Timestamp('2022-08-05 00:00:00'), Timestamp('2021-04-01 00:00:00'), Timestamp('2024-07-18 00:00:00'), Timestamp('2022-05-21 00:00:00'), Timestamp('2022-06-05 00:00:00'), Timestamp('2024-01-03 00:00:00'), Timestamp('2024-06-08 00:00:00'), Timestamp('2024-03-05 00:00:00'), Timestamp('2024-08-15 00:00:00'), Timestamp('2023-02-12 00:00:00'), Timestamp('2022-08-23 00:00:00'), Timestamp('2021-07-24 00:00:00'), Timestamp('2023-08-23 00:00:00'), Timestamp('2021-02-07 00:00:00'), Timestamp('2022-01-03 00:00:00'), Timestamp('2023-06-22 00:00:00'), Timestamp('2020-05-24 00:00:00'), Timestamp('2021-10-24 00:00:00'), Timestamp('2022-01-24 00:00:00'), Timestamp('2022-08-24 00:00:00'), Timestamp('2022-06-21 00:00:00'), Timestamp('2022-07-14 00:00:00'), Timestamp('2021-11-01 00:00:00'), Timestamp('2023-04-17 00:00:00'), Timestamp('2023-05-10 00:00:00'), Timestamp('2020-11-15 00:00:00'), Timestamp('2023-05-03 00:00:00'), Timestamp('2024-04-08 00:00:00'), Timestamp('2024-05-21 00:00:00'), Timestamp('2022-01-01 00:00:00'), Timestamp('2023-01-25 00:00:00'), Timestamp('2024-08-14 00:00:00'), Timestamp('2021-09-01 00:00:00'), Timestamp('2021-08-12 00:00:00'), Timestamp('2022-11-24 00:00:00'), Timestamp('2021-03-08 00:00:00'), Timestamp('2021-12-21 00:00:00'), Timestamp('2024-07-04 00:00:00'), Timestamp('2021-05-22 00:00:00'), Timestamp('2021-06-30 00:00:00'), Timestamp('2020-11-01 00:00:00'), Timestamp('2022-05-03 00:00:00'), Timestamp('2023-07-01 00:00:00'), Timestamp('2023-10-05 00:00:00'), Timestamp('2021-03-24 00:00:00'), Timestamp('2023-03-01 00:00:00'), Timestamp('2021-11-04 00:00:00'), Timestamp('2024-07-05 00:00:00'), Timestamp('2024-04-05 00:00:00'), Timestamp('2023-07-21 00:00:00'), Timestamp('2024-08-05 00:00:00'), Timestamp('2022-12-09 00:00:00'), Timestamp('2020-09-01 00:00:00'), Timestamp('2022-12-01 00:00:00'), Timestamp('2024-02-04 00:00:00'), Timestamp('2023-12-09 00:00:00'), Timestamp('2023-05-22 00:00:00'), Timestamp('2024-07-14 00:00:00'), Timestamp('2021-08-19 00:00:00'), Timestamp('2022-12-04 00:00:00'), Timestamp('2023-05-01 00:00:00'), Timestamp('2023-04-03 00:00:00'), Timestamp('2021-09-03 00:00:00'), Timestamp('2020-05-02 00:00:00'), Timestamp('2024-02-05 00:00:00'), Timestamp('2019-10-23 00:00:00'), Timestamp('2022-02-03 00:00:00'), Timestamp('2024-03-20 00:00:00'), Timestamp('2023-07-14 00:00:00'), Timestamp('2024-01-01 00:00:00'), Timestamp('2022-10-22 00:00:00'), Timestamp('2024-04-09 00:00:00'), Timestamp('2018-01-26 00:00:00'), Timestamp('2022-05-05 00:00:00'), Timestamp('2024-06-01 00:00:00'), Timestamp('2021-10-03 00:00:00'), Timestamp('2021-11-24 00:00:00'), Timestamp('2023-11-13 00:00:00'), Timestamp('2024-05-22 00:00:00'), Timestamp('2021-04-06 00:00:00'), Timestamp('2024-05-25 00:00:00'), Timestamp('2022-07-15 00:00:00'), Timestamp('2022-02-18 00:00:00'), Timestamp('2023-04-01 00:00:00'), Timestamp('2023-04-21 00:00:00'), Timestamp('2021-08-22 00:00:00'), Timestamp('2024-08-30 00:00:00'), Timestamp('2024-09-02 00:00:00'), Timestamp('2020-04-04 00:00:00'), Timestamp('2021-10-01 00:00:00'), Timestamp('2024-05-03 00:00:00'), Timestamp('2023-08-05 00:00:00'), Timestamp('2021-02-24 00:00:00'), Timestamp('2021-08-06 00:00:00'), Timestamp('2020-01-24 00:00:00'), Timestamp('2024-04-04 00:00:00'), Timestamp('2020-08-22 00:00:00'), Timestamp('2021-12-27 00:00:00'), Timestamp('2022-12-29 00:00:00'), Timestamp('2024-04-22 00:00:00'), Timestamp('2022-01-22 00:00:00'), Timestamp('2022-04-24 00:00:00'), Timestamp('2022-11-04 00:00:00'), Timestamp('2021-12-15 00:00:00'), Timestamp('2024-05-24 00:00:00'), Timestamp('2020-06-18 00:00:00'), Timestamp('2023-09-21 00:00:00'), Timestamp('2023-01-21 00:00:00'), Timestamp('2022-08-03 00:00:00'), Timestamp('2023-08-09 00:00:00'), Timestamp('2019-10-15 00:00:00'), Timestamp('2022-08-15 00:00:00'), Timestamp('2021-05-03 00:00:00'), Timestamp('2021-07-22 00:00:00'), Timestamp('2022-11-01 00:00:00'), Timestamp('2021-07-04 00:00:00'), Timestamp('2021-09-24 00:00:00'), Timestamp('2022-10-13 00:00:00'), Timestamp('2022-06-30 00:00:00'), Timestamp('2019-12-20 00:00:00'), Timestamp('2024-07-10 00:00:00'), Timestamp('2024-03-07 00:00:00'), Timestamp('2024-07-30 00:00:00'), Timestamp('2024-08-10 00:00:00'), Timestamp('2023-10-04 00:00:00'), Timestamp('2024-02-22 00:00:00'), Timestamp('2021-12-09 00:00:00'), Timestamp('2024-06-12 00:00:00'), Timestamp('2021-11-22 00:00:00'), Timestamp('2020-11-04 00:00:00'), Timestamp('2024-03-14 00:00:00'), Timestamp('2022-11-21 00:00:00'), Timestamp('2022-12-23 00:00:00'), Timestamp('2021-02-15 00:00:00'), Timestamp('2023-06-28 00:00:00'), Timestamp('2020-05-01 00:00:00'), Timestamp('2022-02-08 00:00:00'), Timestamp('2021-05-24 00:00:00'), Timestamp('2022-10-04 00:00:00'), Timestamp('2024-06-10 00:00:00'), Timestamp('2023-10-23 00:00:00'), Timestamp('2020-06-04 00:00:00'), Timestamp('2021-07-01 00:00:00'), Timestamp('2024-04-23 00:00:00'), Timestamp('2023-07-07 00:00:00'), Timestamp('2023-09-02 00:00:00'), Timestamp('2021-09-12 00:00:00'), Timestamp('2024-01-21 00:00:00'), Timestamp('2023-07-15 00:00:00'), Timestamp('2023-01-24 00:00:00'), Timestamp('2022-07-01 00:00:00'), Timestamp('2024-05-15 00:00:00'), Timestamp('2020-11-05 00:00:00'), Timestamp('2021-05-04 00:00:00'), Timestamp('2024-03-18 00:00:00'), Timestamp('2023-05-05 00:00:00'), Timestamp('2024-07-28 00:00:00'), Timestamp('2020-03-01 00:00:00'), Timestamp('2020-05-06 00:00:00'), Timestamp('2021-12-23 00:00:00'), Timestamp('2020-03-24 00:00:00'), Timestamp('2024-03-08 00:00:00'), Timestamp('2023-08-04 00:00:00'), Timestamp('2023-03-10 00:00:00'), Timestamp('2024-06-26 00:00:00'), Timestamp('2020-07-05 00:00:00'), Timestamp('2020-03-03 00:00:00'), Timestamp('2021-01-03 00:00:00'), Timestamp('2023-03-06 00:00:00'), Timestamp('2024-07-21 00:00:00'), Timestamp('2021-04-14 00:00:00'), Timestamp('2020-07-01 00:00:00'), Timestamp('2021-04-07 00:00:00'), Timestamp('2023-02-16 00:00:00'), Timestamp('2021-10-22 00:00:00'), Timestamp('2023-12-04 00:00:00'), Timestamp('2021-05-12 00:00:00'), Timestamp('2022-07-24 00:00:00'), Timestamp('2023-06-20 00:00:00'), Timestamp('2023-03-07 00:00:00'), Timestamp('2023-02-15 00:00:00'), Timestamp('2023-12-28 00:00:00'), Timestamp('2020-08-03 00:00:00'), Timestamp('2020-07-24 00:00:00'), Timestamp('2020-09-24 00:00:00'), Timestamp('2021-04-22 00:00:00'), Timestamp('2022-08-26 00:00:00'), Timestamp('2021-06-23 00:00:00'), Timestamp('2022-04-23 00:00:00'), Timestamp('2021-10-23 00:00:00'), Timestamp('2022-12-24 00:00:00'), Timestamp('2023-11-19 00:00:00'), Timestamp('2023-08-13 00:00:00'), Timestamp('2023-11-22 00:00:00'), Timestamp('2024-04-18 00:00:00'), Timestamp('2024-02-03 00:00:00'), Timestamp('2021-11-03 00:00:00'), Timestamp('2022-02-05 00:00:00'), Timestamp('2022-04-22 00:00:00'), Timestamp('2024-04-07 00:00:00'), Timestamp('2020-08-14 00:00:00'), Timestamp('2023-11-14 00:00:00'), Timestamp('2022-09-01 00:00:00'), Timestamp('2023-01-02 00:00:00'), Timestamp('2020-01-12 00:00:00'), Timestamp('2022-04-25 00:00:00'), Timestamp('2022-05-01 00:00:00'), Timestamp('2022-03-21 00:00:00'), Timestamp('2023-04-23 00:00:00'), Timestamp('2021-07-05 00:00:00'), Timestamp('2024-06-07 00:00:00')]\n",
      "conjunto de valores unicos de Importe: [321539, 55300, 294917, 522252, 75788, 18448, 534547, 487451, 694300, 356384, 366630, 55339, 335920, 92208, 55346, 174132, 596040, 53331, 374870, 428123, 14428, 247913, 268395, 770156, 243823, 75887, 262263, 57471, 172159, 551050, 190604, 540813, 364686, 540812, 254098, 307348, 563349, 34964, 747671, 424093, 333984, 774305, 325793, 501922, 41123, 104618, 239793, 116913, 299187, 92342, 258235, 604351, 30913, 714947, 680131, 360648, 768202, 581841, 567511, 655577, 262362, 434394, 329953, 676067, 329958, 180459, 84204, 409837, 385281, 180488, 483595, 153871, 88336, 561428, 178456, 626970, 43290, 420123, 747805, 57632, 250149, 35115, 375092, 268596, 33079, 442684, 319808, 487746, 399685, 590151, 149833, 387405, 194895, 47448, 63835, 782687, 205153, 309601, 706918, 141673, 53611, 293230, 565616, 553331, 481653, 282999, 244089, 340346, 63873, 571778, 276867, 776587, 575890, 676243, 86419, 477604, 242085, 539067, 508349, 113088, 29120, 195011, 295364, 76229, 166344, 545228, 43469, 102864, 129491, 459222, 190938, 235999, 547298, 473575, 188904, 627181, 45549, 307698, 88565, 39420, 51713, 469510, 631303, 569863, 446985, 59924, 766487, 274968, 16927, 430624, 61986, 451106, 317989, 471594, 520747, 455211, 778799, 354871, 76343, 197183, 139844, 506437, 537160, 647753, 748110, 590415, 449104, 526926, 356962, 440936, 578153, 88682, 72299, 225900, 23153, 606837, 334462, 72321, 492165, 531085, 512660, 359060, 43675, 279196, 723618, 217763, 250534, 256681, 90795, 66227, 303796, 760502, 207544, 334523, 668347, 326348, 43728, 455378, 291540, 86746, 398047, 117472, 121573, 123625, 758508, 486131, 74488, 232185, 635642, 78589, 281342, 156418, 592642, 115458, 584457, 221969, 686866, 291606, 84760, 514844, 260898, 609063, 387885, 199470, 547634, 385846, 523067, 219966, 135999, 447298, 265027, 361284, 70469, 541508, 383818, 299852, 416591, 508753, 121690, 465762, 168805, 693094, 27493, 727911, 402281, 410481, 29556, 148343, 66423, 488328, 486280, 711560, 45976, 545689, 263071, 484258, 191399, 648108, 572337, 13240, 578491, 496574, 523200, 572356, 224200, 31692, 166865, 400338, 572372, 58332, 109533, 359406, 488440, 492556, 66576, 525330, 433172, 570388, 408599, 171034, 46112, 234530, 771106, 101418, 482346, 82997, 222261, 334904, 404537, 298046, 46148, 496721, 445529, 349275, 345181, 408684, 797809, 152701, 273536, 244865, 470152, 156809, 117902, 435348, 66711, 345240, 564381, 529570, 773286, 470187, 312491, 642222, 285886, 750782, 193728, 572610, 244932, 488646, 117968, 238802, 599251, 79065, 371932, 234722, 87280, 500982, 251130, 46331, 173308, 97534, 15614, 132359, 40212, 183574, 271642, 433438, 578868, 218438, 185679, 675154, 40287, 662880, 85345, 269664, 447841, 228710, 226668, 175471, 460149, 32127, 181635, 60805, 587146, 167308, 54677, 173463, 378265, 480666, 546208, 64932, 460201, 544174, 558515, 570809, 630203, 783804, 64959, 93637, 486856, 255436, 675277, 257499, 11747, 17892, 60901, 429540, 445924, 65000, 683505, 663026, 615923, 445942, 484857, 462336, 704002, 280069, 368134, 470537, 740873, 347660, 331280, 40464, 58897, 67094, 173595, 183842, 38437, 568883, 40499, 706102, 351798, 63032, 89666, 159307, 417361, 1121873, 298586, 357979, 42590, 81503, 628328, 175721, 130672, 570995, 46713, 347778, 42628, 607880, 697998, 667281, 65179, 83619, 65198, 157365, 609982, 249539, 351957, 472790, 179927, 71381, 730842, 108254, 243430, 87788, 329454, 249584, 83697, 464627, 73466, 83712, 73476, 788229, 16137, 739084, 220940, 128788, 85785, 577317, 390950, 515890, 24378, 233279, 732998, 761671, 294729, 130889, 196425, 505685, 264022, 51045, 556901, 28523, 581485, 579438, 184185, 280450, 700290, 89993, 329609, 280468, 149397, 272276, 59286, 593821, 700318, 92066, 565167, 217008, 81847, 538554, 196540, 356286, 24515, 18374, 274376, 366542, 143318, 659415, 462809, 444382, 739298, 63458, 341986, 626668, 202733, 477167, 268278, 307194]\n",
      "conjunto de valores unicos de Nro de Cuenta: [405100, 404100, 403103]\n"
     ]
    }
   ],
   "source": [
    "for column in don.columns:\n",
    "    columna = list(set(don[column]))\n",
    "    print(f'cantidad de valores unicos de {column}: {len(columna)}')\n",
    "    \n",
    "print()\n",
    "print()\n",
    "\n",
    "for column in don.columns:\n",
    "    columna = list(set(don[column]))\n",
    "    print(f'conjunto de valores unicos de {column}: {columna}')"
   ]
  },
  {
   "cell_type": "code",
   "execution_count": null,
   "id": "fab6606a",
   "metadata": {},
   "outputs": [],
   "source": [
    "# Campo 'Cargo' no proporciona informacion relevante, por lo que va a ser eliminado\n",
    "#"
   ]
  },
  {
   "cell_type": "code",
   "execution_count": 7,
   "id": "2ad2726d",
   "metadata": {},
   "outputs": [
    {
     "name": "stdout",
     "output_type": "stream",
     "text": [
      "Todos los datos tienen el formato correcto\n"
     ]
    }
   ],
   "source": [
    "r.validar_nro(don, 'Numero')"
   ]
  },
  {
   "cell_type": "code",
   "execution_count": 12,
   "id": "4d766ff7",
   "metadata": {},
   "outputs": [
    {
     "name": "stdout",
     "output_type": "stream",
     "text": [
      "Existen datos con formato incorrecto\n",
      "43     Apoyo Logistico S.A.\n",
      "44     Apoyo Logistico S.A.\n",
      "45     Apoyo Logistico S.A.\n",
      "46     Apoyo Logistico S.A.\n",
      "47     Apoyo Logistico S.A.\n",
      "               ...         \n",
      "494             Bebidas S.A\n",
      "495             Bebidas S.A\n",
      "496             Bebidas S.A\n",
      "497             Bebidas S.A\n",
      "498             Bebidas S.A\n",
      "Name: Nombre, Length: 249, dtype: object\n"
     ]
    }
   ],
   "source": [
    "r.validar_nombre(don, 'Nombre')"
   ]
  },
  {
   "cell_type": "code",
   "execution_count": 8,
   "id": "af875635",
   "metadata": {},
   "outputs": [
    {
     "name": "stdout",
     "output_type": "stream",
     "text": [
      "Existen datos con formato incorrecto\n",
      "0      Contacto C\n",
      "1      Contacto C\n",
      "2      Contacto C\n",
      "3      Contacto C\n",
      "4      Contacto C\n",
      "          ...    \n",
      "270             -\n",
      "271             -\n",
      "272             -\n",
      "273             -\n",
      "274             -\n",
      "Name: Contacto, Length: 158, dtype: object\n"
     ]
    }
   ],
   "source": [
    "r.validar_contacto(don)"
   ]
  },
  {
   "cell_type": "code",
   "execution_count": 16,
   "id": "f2de2320",
   "metadata": {},
   "outputs": [
    {
     "name": "stdout",
     "output_type": "stream",
     "text": [
      "Todos los CUIT tienen el formato correcto\n"
     ]
    }
   ],
   "source": [
    "r.validar_cuit(don, 'CUIT')"
   ]
  },
  {
   "cell_type": "code",
   "execution_count": 6,
   "id": "cb3835ad",
   "metadata": {},
   "outputs": [
    {
     "name": "stdout",
     "output_type": "stream",
     "text": [
      "Todos los nombres de contacto tienen el formato correcto\n"
     ]
    }
   ],
   "source": [
    "r.validar_correo(don, 'Correo Electrónico')"
   ]
  },
  {
   "cell_type": "code",
   "execution_count": 8,
   "id": "17ac2717",
   "metadata": {},
   "outputs": [
    {
     "name": "stdout",
     "output_type": "stream",
     "text": [
      "Existen datos con formato incorrecto\n",
      "43     Responsable Inscripto\n",
      "44     Responsable Inscripto\n",
      "45     Responsable Inscripto\n",
      "46     Responsable Inscripto\n",
      "47     Responsable Inscripto\n",
      "               ...          \n",
      "494    Responsable Inscripto\n",
      "495    Responsable Inscripto\n",
      "496    Responsable Inscripto\n",
      "497    Responsable Inscripto\n",
      "498    Responsable Inscripto\n",
      "Name: Tipo de Contribuyente, Length: 209, dtype: object\n",
      "Los tipos de contribuyentes son los siguientes:\n",
      " {'Monotributista', 'IVA Responsable Inscripto', 'Responsable Inscripto', 'Exento'}\n"
     ]
    }
   ],
   "source": [
    "r.validar_tipo_contribuyente(don, 'Tipo de Contribuyente')"
   ]
  }
 ],
 "metadata": {
  "kernelspec": {
   "display_name": "Python 3",
   "language": "python",
   "name": "python3"
  },
  "language_info": {
   "codemirror_mode": {
    "name": "ipython",
    "version": 3
   },
   "file_extension": ".py",
   "mimetype": "text/x-python",
   "name": "python",
   "nbconvert_exporter": "python",
   "pygments_lexer": "ipython3",
   "version": "3.11.0"
  }
 },
 "nbformat": 4,
 "nbformat_minor": 5
}
