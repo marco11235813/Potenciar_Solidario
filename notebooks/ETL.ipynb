{
 "cells": [
  {
   "cell_type": "code",
   "execution_count": 1,
   "id": "2c6639d1",
   "metadata": {},
   "outputs": [],
   "source": [
    "import numpy as np\n",
    "import pandas as pd\n"
   ]
  },
  {
   "cell_type": "code",
   "execution_count": 2,
   "id": "3d07b320",
   "metadata": {},
   "outputs": [],
   "source": [
    "prov = pd.read_excel('../data/raw/proveedores.xlsx')"
   ]
  },
  {
   "cell_type": "code",
   "execution_count": 4,
   "id": "d463644e",
   "metadata": {},
   "outputs": [],
   "source": [
    "det = pd.read_csv('../data/raw/Detalles_Ing_Egres.txt', sep= '\\t', encoding = 'latin1')"
   ]
  },
  {
   "cell_type": "code",
   "execution_count": 5,
   "id": "cc4ac0db",
   "metadata": {},
   "outputs": [],
   "source": [
    "don = pd.read_excel('../data/raw/donantes.xlsx')"
   ]
  },
  {
   "cell_type": "code",
   "execution_count": null,
   "id": "6b65ca02",
   "metadata": {},
   "outputs": [
    {
     "data": {
      "text/html": [
       "<div>\n",
       "<style scoped>\n",
       "    .dataframe tbody tr th:only-of-type {\n",
       "        vertical-align: middle;\n",
       "    }\n",
       "\n",
       "    .dataframe tbody tr th {\n",
       "        vertical-align: top;\n",
       "    }\n",
       "\n",
       "    .dataframe thead th {\n",
       "        text-align: right;\n",
       "    }\n",
       "</style>\n",
       "<table border=\"1\" class=\"dataframe\">\n",
       "  <thead>\n",
       "    <tr style=\"text-align: right;\">\n",
       "      <th></th>\n",
       "      <th>Número Proveedor</th>\n",
       "      <th>Nombre Proveedor</th>\n",
       "      <th>CUIT</th>\n",
       "      <th>Categor/a Proveedor</th>\n",
       "      <th>Tipo de Contribuyente</th>\n",
       "      <th>Observaciones</th>\n",
       "      <th>Contacto</th>\n",
       "      <th>Correo Electrónico</th>\n",
       "      <th>Teléfono</th>\n",
       "      <th>Razón Social</th>\n",
       "      <th>Importe</th>\n",
       "      <th>Fecha</th>\n",
       "      <th>Nro_Cuenta</th>\n",
       "      <th>Ciudad</th>\n",
       "      <th>Pais</th>\n",
       "    </tr>\n",
       "  </thead>\n",
       "  <tbody>\n",
       "    <tr>\n",
       "      <th>0</th>\n",
       "      <td>P00001</td>\n",
       "      <td>Proveedora S.A.</td>\n",
       "      <td>30-12345678-9</td>\n",
       "      <td>SERVIC/OS</td>\n",
       "      <td>RESPONSABLE INSCR/ITO</td>\n",
       "      <td>-</td>\n",
       "      <td>Juan Pérez</td>\n",
       "      <td>juan.perez@empresa.com</td>\n",
       "      <td>1234-5678</td>\n",
       "      <td>S.A.</td>\n",
       "      <td>171488</td>\n",
       "      <td>2024-03-18</td>\n",
       "      <td>501400</td>\n",
       "      <td>Buenos Aires</td>\n",
       "      <td>Argentina</td>\n",
       "    </tr>\n",
       "    <tr>\n",
       "      <th>1</th>\n",
       "      <td>P00002</td>\n",
       "      <td>Pedro González</td>\n",
       "      <td>30-87654321-0</td>\n",
       "      <td>SERVIC/OS</td>\n",
       "      <td>MONOTRIBUTISTA</td>\n",
       "      <td>-</td>\n",
       "      <td>Pedro González</td>\n",
       "      <td>pedro.gonzalez@correo.zom</td>\n",
       "      <td>2345-6789</td>\n",
       "      <td>S.R.L.</td>\n",
       "      <td>288255</td>\n",
       "      <td>2024-02-08</td>\n",
       "      <td>503100</td>\n",
       "      <td>Cordoba</td>\n",
       "      <td>Argentina</td>\n",
       "    </tr>\n",
       "    <tr>\n",
       "      <th>2</th>\n",
       "      <td>P00003</td>\n",
       "      <td>Empresa XYZ</td>\n",
       "      <td>30-13579246-3</td>\n",
       "      <td>MATER/IALES</td>\n",
       "      <td>RESPONSABLE INSCR/ITO</td>\n",
       "      <td>-</td>\n",
       "      <td>María López</td>\n",
       "      <td>maria.lopez@empresa.com</td>\n",
       "      <td>3456-7890</td>\n",
       "      <td>S.A.</td>\n",
       "      <td>195975</td>\n",
       "      <td>2024-01-18</td>\n",
       "      <td>506100</td>\n",
       "      <td>Rosario</td>\n",
       "      <td>Argentina</td>\n",
       "    </tr>\n",
       "    <tr>\n",
       "      <th>3</th>\n",
       "      <td>P00004</td>\n",
       "      <td>Servicios AB</td>\n",
       "      <td>30-24681357-2</td>\n",
       "      <td>AGENTE /MPOSITIVO</td>\n",
       "      <td>RESPONSAB/LE INSCRIPTO</td>\n",
       "      <td>-</td>\n",
       "      <td>Laura Ruiz</td>\n",
       "      <td>laura.ruiz@correo.zom</td>\n",
       "      <td>AR4567-8901</td>\n",
       "      <td>S.R.L.</td>\n",
       "      <td>158607</td>\n",
       "      <td>2024-03-09</td>\n",
       "      <td>509100</td>\n",
       "      <td>Mendoza</td>\n",
       "      <td>Argentina</td>\n",
       "    </tr>\n",
       "    <tr>\n",
       "      <th>4</th>\n",
       "      <td>P00005</td>\n",
       "      <td>Carlos Méndez</td>\n",
       "      <td>30-12345678-9</td>\n",
       "      <td>SERVIC/OS</td>\n",
       "      <td>MONOTRIBUTISTA</td>\n",
       "      <td>-</td>\n",
       "      <td>Carlos Méndez</td>\n",
       "      <td>carlos.mendez@correo.com</td>\n",
       "      <td>5678-9012</td>\n",
       "      <td>S.A.</td>\n",
       "      <td>238101</td>\n",
       "      <td>2024-03-28</td>\n",
       "      <td>516000</td>\n",
       "      <td>Buenos Aires</td>\n",
       "      <td>Argentina</td>\n",
       "    </tr>\n",
       "  </tbody>\n",
       "</table>\n",
       "</div>"
      ],
      "text/plain": [
       "  Número Proveedor Nombre Proveedor           CUIT Categor/a Proveedor  \\\n",
       "0           P00001  Proveedora S.A.  30-12345678-9           SERVIC/OS   \n",
       "1           P00002   Pedro González  30-87654321-0           SERVIC/OS   \n",
       "2           P00003      Empresa XYZ  30-13579246-3         MATER/IALES   \n",
       "3           P00004     Servicios AB  30-24681357-2   AGENTE /MPOSITIVO   \n",
       "4           P00005    Carlos Méndez  30-12345678-9           SERVIC/OS   \n",
       "\n",
       "    Tipo de Contribuyente Observaciones        Contacto  \\\n",
       "0   RESPONSABLE INSCR/ITO             -      Juan Pérez   \n",
       "1          MONOTRIBUTISTA             -  Pedro González   \n",
       "2   RESPONSABLE INSCR/ITO             -     María López   \n",
       "3  RESPONSAB/LE INSCRIPTO             -      Laura Ruiz   \n",
       "4          MONOTRIBUTISTA             -   Carlos Méndez   \n",
       "\n",
       "          Correo Electrónico     Teléfono Razón Social  Importe      Fecha  \\\n",
       "0     juan.perez@empresa.com    1234-5678         S.A.   171488 2024-03-18   \n",
       "1  pedro.gonzalez@correo.zom    2345-6789       S.R.L.   288255 2024-02-08   \n",
       "2    maria.lopez@empresa.com    3456-7890         S.A.   195975 2024-01-18   \n",
       "3      laura.ruiz@correo.zom  AR4567-8901       S.R.L.   158607 2024-03-09   \n",
       "4   carlos.mendez@correo.com    5678-9012         S.A.   238101 2024-03-28   \n",
       "\n",
       "   Nro_Cuenta        Ciudad       Pais  \n",
       "0      501400  Buenos Aires  Argentina  \n",
       "1      503100       Cordoba  Argentina  \n",
       "2      506100       Rosario  Argentina  \n",
       "3      509100       Mendoza  Argentina  \n",
       "4      516000  Buenos Aires  Argentina  "
      ]
     },
     "execution_count": 5,
     "metadata": {},
     "output_type": "execute_result"
    }
   ],
   "source": [
    "prov.head()"
   ]
  },
  {
   "cell_type": "code",
   "execution_count": 8,
   "id": "1b488a75",
   "metadata": {},
   "outputs": [
    {
     "name": "stdout",
     "output_type": "stream",
     "text": [
      "<class 'pandas.core.frame.DataFrame'>\n",
      "RangeIndex: 373 entries, 0 to 372\n",
      "Data columns (total 15 columns):\n",
      " #   Column                 Non-Null Count  Dtype         \n",
      "---  ------                 --------------  -----         \n",
      " 0   Número Proveedor       373 non-null    object        \n",
      " 1   Nombre Proveedor       373 non-null    object        \n",
      " 2   CUIT                   373 non-null    object        \n",
      " 3   Categor/a Proveedor    373 non-null    object        \n",
      " 4   Tipo de Contribuyente  373 non-null    object        \n",
      " 5   Observaciones          373 non-null    object        \n",
      " 6   Contacto               373 non-null    object        \n",
      " 7   Correo Electrónico     373 non-null    object        \n",
      " 8   Teléfono               373 non-null    object        \n",
      " 9   Razón Social           373 non-null    object        \n",
      " 10  Importe                373 non-null    int64         \n",
      " 11  Fecha                  373 non-null    datetime64[ns]\n",
      " 12  Nro_Cuenta             373 non-null    int64         \n",
      " 13  Ciudad                 373 non-null    object        \n",
      " 14  Pais                   373 non-null    object        \n",
      "dtypes: datetime64[ns](1), int64(2), object(12)\n",
      "memory usage: 43.8+ KB\n"
     ]
    }
   ],
   "source": [
    "prov.info()"
   ]
  },
  {
   "cell_type": "code",
   "execution_count": null,
   "id": "a42afe8a",
   "metadata": {},
   "outputs": [],
   "source": [
    "# descripcion general"
   ]
  },
  {
   "cell_type": "code",
   "execution_count": 7,
   "id": "a4556dff",
   "metadata": {},
   "outputs": [
    {
     "data": {
      "text/plain": [
       "Número Proveedor         373\n",
       "Nombre Proveedor         373\n",
       "CUIT                     373\n",
       "Categor/a Proveedor      373\n",
       "Tipo de Contribuyente    373\n",
       "Observaciones            373\n",
       "Contacto                 373\n",
       "Correo Electrónico       373\n",
       "Teléfono                 373\n",
       "Razón Social             373\n",
       "Importe                  373\n",
       "Fecha                    373\n",
       "Nro_Cuenta               373\n",
       "Ciudad                   373\n",
       "Pais                     373\n",
       "dtype: int64"
      ]
     },
     "execution_count": 7,
     "metadata": {},
     "output_type": "execute_result"
    }
   ],
   "source": [
    "prov.isna().count()"
   ]
  },
  {
   "cell_type": "code",
   "execution_count": null,
   "id": "144a476a",
   "metadata": {},
   "outputs": [],
   "source": [
    "#no cuenta con valores nan"
   ]
  },
  {
   "cell_type": "code",
   "execution_count": 6,
   "id": "36309415",
   "metadata": {},
   "outputs": [
    {
     "name": "stdout",
     "output_type": "stream",
     "text": [
      "cantidad de valores unicos de Número Proveedor: 68\n",
      "cantidad de valores unicos de Nombre Proveedor: 68\n",
      "cantidad de valores unicos de CUIT: 64\n",
      "cantidad de valores unicos de Categor/a Proveedor: 13\n",
      "cantidad de valores unicos de Tipo de Contribuyente: 6\n",
      "cantidad de valores unicos de Observaciones: 1\n",
      "cantidad de valores unicos de Contacto: 69\n",
      "cantidad de valores unicos de Correo Electrónico: 68\n",
      "cantidad de valores unicos de Teléfono: 39\n",
      "cantidad de valores unicos de Razón Social: 4\n",
      "cantidad de valores unicos de Importe: 344\n",
      "cantidad de valores unicos de Fecha: 287\n",
      "cantidad de valores unicos de Nro_Cuenta: 8\n",
      "cantidad de valores unicos de Ciudad: 42\n",
      "cantidad de valores unicos de Pais: 1\n",
      "\n",
      "\n",
      "conjunto de valores unicos de Número Proveedor: ['P00135', 'P00118', 'P00133', 'P00148', 'P00127', 'P00141', 'P00150', 'P00010', 'P00012', 'P00116', 'P00139', 'P00142', 'P00015', 'P00113', 'P00117', 'P00114', 'P00008', 'P00107', 'P00136', 'P00106', 'P00112', 'P00111', 'P00144', 'P00004', 'P00017', 'P00126', 'P00147', 'P00120', 'P00128', 'P00121', 'P00105', 'P00125', 'P00016', 'P00124', 'P00014', 'P00145', 'P00129', 'P00123', 'P00013', 'P00149', 'P00108', 'P00115', 'P00109', 'P00132', 'P00101', 'P00005', 'P00119', 'P00137', 'P00138', 'P00143', 'P00001', 'P00146', 'P00134', 'P00110', 'P00007', 'P00104', 'P00011', 'P00103', 'P00131', 'P00009', 'P00002', 'P00130', 'P00140', 'P00018', 'P00102', 'P00003', 'P00006', 'P00122']\n",
      "conjunto de valores unicos de Nombre Proveedor: ['Mariana Gómez', 'Pablo Díaz', 'Compañía Beta', 'Daniel Morales', 'Sofía Martínez', 'Manuel Fernández', 'Consultora Zeta', 'Andrés Ruiz', 'Eduardo Reyes', 'Fernando Gómez', 'Diego Fernández', 'Patricia Rivas', 'Manuel Rodríguez', 'Servicios AB', 'Jorge Herrera', 'Valeria Ortega', 'Empresa XYZ', 'Clara Jiménez', 'Marketing Global', 'Julio Fernández', 'Alejandro Rivas', 'Roberto Cruz', 'Pedro López', 'Ernesto Ruiz', 'Verónica Martínez', 'Fernando Reyes', ' Carlos Méndez', 'Juan Castillo', 'Isabel Ramírez', 'Carlos Fernández', 'Roberto Díaz', 'Carla Medina', 'Ricardo López', 'Grupo Alfa', 'Juliana Pérez', 'Luis Martínez', 'Laura Pérez', 'Marcela Jiménez', 'Javier López', 'Proveedora S.A.', 'Ana Sánchez', 'Laura Fernández', 'Gabriel López', 'Camila Martínez', 'Soluciones Gama', 'Proveedor Ltda.', 'Fernanda García', 'María González', 'Javier González', 'Pedro González', 'Silvia Ramírez', 'Pablo Vargas', 'Patricia Gómez', 'Gabriela Martínez', 'Estudio Jurídico Alfa', 'Javier Ramírez', 'Laura Castillo', 'Sofía Castro', 'Ana Rodríguez', 'Luis Gómez', 'Valentina Ortega', 'Nicolás Castillo', 'Repuestos Omega', 'Santiago López', 'Rosa Pérez', 'Daniela Fernández', 'Claudia Sánchez', 'Gabriela Torres']\n",
      "conjunto de valores unicos de CUIT: ['20-01234567-4', '23-87654329-8', '33-90123456-3', '30-97531246-1', '30-45678901-2', '23-34567890-1', '33-90123456-0', '27-78901234-9', '20-87654321-2', '33-45678901-8', '30-19283746-4', '30-32165487-0', '30-12345679-8', '33-65432198-7', '30-97531247-8', '33-12345678-9', '27-78901234-6', '27-12345678-9', '23-98765432-4', '33-45678901-2', '27-23456789-1', '20-56789012-3', '20-87654322-3', '30-87654321-0', '20-12345678-9', '20-98765432-9', '23-87654323-6', '30-12345678-9', '30-65432198-7', '27-23456789-6', '33-76543219-7', '23-89012345-9', '30-98765434-2', '27-98765432-5', '20-34567890-1', '23-45678901-3', '33-56789012-6', '30-98765432-5', '30-19283747-0', '30-67890123-4', '27-76543210-6', '30-86430976-9', '27-87654321-0', '23-89012346-2', '30-24681357-2', '30-13579246-3', '30-98765432-1', '27-23456789-4', '20-56789012-5', '30-24681358-6', '30-65432109-8', '30-74859632-7', '30-76543214-8', '33-76543218-9', '30-34567890-3', '30-12345678-5', 30135792487, '33-56789012-4', '20-23456789-1', '23-87654320-5', '23-45678901-7', '23-34567890-7', '30-67890123-6', '27-23456789-3']\n",
      "conjunto de valores unicos de Categor/a Proveedor: ['MATER/IALES', 'AGENTE /MPOSITIVO', 'Energía Renovable', 'Construcción', 'Energía Solar', 'Agroindustria', 'Energía Eólica', 'Consultoría', 'Transporte', 'Tecnología', 'Consultoría IT', 'Software', 'SERVIC/OS']\n",
      "conjunto de valores unicos de Tipo de Contribuyente: ['Monotributista', 'MONOTRIBUTISTA', 'IVA Responsable', 'RESPONSAB/LE INSCRIPTO', 'RESPONSABLE INSCR/ITO', 'Responsable Inscripto']\n",
      "conjunto de valores unicos de Observaciones: ['-']\n",
      "conjunto de valores unicos de Contacto: ['Mariana Gómez', 'Pablo Díaz', 'Daniel Morales', 'Sofía Martínez', 'Manuel Fernández', 'Andrés Ruiz', 'Eduardo Reyes', 'Natalia Gómez', 'Diego Fernández', 'Carlos Méndez', 'María Hernández', 'Alberto Fernández', 'Patricia Rivas', 'Manuel Rodríguez', 'Jorge Herrera', 'Valeria Ortega', 'María López', 'Clara Jiménez', 'Alejandro Rivas', 'Julio Fernández', 'Roberto Cruz', 'Pedro López', 'Ernesto Ruiz', 'Verónica Martínez', 'Laura Martínez', 'Fernando Reyes', ' Carlos Méndez', 'Juan Castillo', 'Isabel Ramírez', 'Carlos Fernández', 'Roberto Díaz', 'Carla Medina', 'Ricardo López', 'Laura Ruiz', 'Juliana Pérez', 'Luis Martínez', 'Laura Pérez', 'Marcela Jiménez', 'Javier López', ' Sergio Castro', 'Ana Sánchez', 'Laura Fernández', 'Gabriel López', 'Camila Martínez', 'Fernanda García', 'María González', 'Javier González', 'Pedro González', 'Silvia Ramírez', ' Fernando Gómez', 'Pablo Vargas', 'Patricia Gómez', 'Gabriela Martínez', 'Javier Martínez', 'Javier Ramírez', 'Laura Castillo', 'Sofía Castro', 'Juan Pérez', 'Gabriela Gómez', 'Ana Rodríguez', 'Luis Gómez', 'Valentina Ortega', 'Nicolás Castillo', ' Laura Sánchez', 'Santiago López', 'Rosa Pérez', 'Daniela Fernández', 'Claudia Sánchez', 'Gabriela Torres']\n",
      "conjunto de valores unicos de Correo Electrónico: ['maria.lopez@empresa.com', 'luis.martinez@empresa.xyz', 'daniela.fernandez@empresa.uvw', 'carlos.mendez@correo.com', 'valentina.ortega@empresa.stu', 'laura.martinez@empresa.zom', 'javier.martinez@empresa.com', 'jorge.herrera@empresa.bcd', 'isabel.ramirez@empresa.bef', 'laura.fernandez@empresa.ghi', 'ernesto.ruiz@empresa.nop', 'carla.medina@empresa.qrs', 'manuel.fernandez@empresa.tuv', 'daniel.morales@empresa.vwx', 'juliana.perez@empresa.stu', 'julio.fernandez@correo.zom', 'ana.rodriguez@empresa.abc', 'pablo.vargas@empresa.def', 'javier.gonzalez@empresa.jkl', 'juan.castillo@empresa.tuv', 'pablo.diaz@empresa.zab', 'gabriel.lopez@empresa.uvw', 'fernando.reyes@empresa.pqr', 'javier.ramirez@empresa.pqr', 'gabriela.torres@empresa.yza', 'laura.sanchez@empresa.zom', 'andres.ruiz@empresa.tuv', 'pedro.gonzalez@correo.zom', 'laura.castillo@empresa.mno', 'rosa.perez@correo.zom', 'ricardo.lopez@empresa.xyz', 'eduardo.reyes@empresa.jkl', 'javier.lopez@correo.zom', 'sergio.castro@correo.zom', 'gabriela.gomez@empresa.com', 'sofia.castro@empresa.uvw', 'manuel.rodriguez@empresa.def', 'laura.perez@empresa.mno', 'marcela.jimenez@empresa.abc', 'patricia.gomez@empresa.klm', 'veronica.martinez@empresa.stu', 'camila.martinez@empresa.ghi', 'maria.hernandez@correo.com', 'ana.sanchez@correo.com', 'santiago.lopez@empresa.jkl', 'clara.jimenez@empresa.ghi', 'alejandro.rivas@empresa.pqr', 'diego.fernandez@empresa.uvw', 'fernanda.garcia@empresa.mno', 'silvia.ramirez@empresa.efg', 'natalia.gomez@empresa.com', 'claudia.sanchez@empresa.stu', 'sofia.martinez@empresa.wxy', 'luis.gomez@empresa.xyz', 'laura.ruiz@correo.zom', 'juan.perez@empresa.com', 'gabriela.martinez@empresa.abc', 'carlos.fernandez@empresa.def', 'nicolas.castillo@empresa.pqr', 'mariana.gomez@empresa.xyz', 'valeria.ortega@empresa.qrs', 'patricia.rivas@empresa.mno', 'alberto.fernandez@empresa.zom', 'maria.gonzalez@empresa.ghi', 'roberto.diaz@empresa.def', 'pedro.lopez@empresa.jkl', 'roberto.cruz@empresa.hij', 'fernando.gomez@correo.zom']\n",
      "conjunto de valores unicos de Teléfono: ['7890-1234', 'AR4567-8901', '0123-5678', '0567-8901', '0777-5678', '0123-4567', '0123-6789', '2345-6789', '0345-9998', '0123-9876', '0889-6543', '1234-5678', '0555-4321', '0912-3456', '0890-1234', '0345-6789', '0666-2345', '0123-7654', '0555-2345', '0678-3456', '0889-7654', '0678-9012', '0777-7654', 'AR6789-0123', '0999-1234', '9012-3456', '6789-0123', '3456-7890', '8901-2345', '0555-9876', '0765-3456', '0111-2345', '4567-8901', '0789-0123', '0765-4321', '0999-2345', '0999-9876', '0456-7890', '5678-9012']\n",
      "conjunto de valores unicos de Razón Social: ['S.R.L.', 'Cooperativa', 'Sociedad Anónima', 'S.A.']\n",
      "conjunto de valores unicos de Importe: [141315, 241670, 57351, 36878, 233493, 235544, 225311, 94240, 239664, 84017, 135225, 251963, 184382, 73794, 12373, 192599, 120929, 10352, 88185, 157821, 57471, 129158, 88206, 256144, 151708, 190624, 235688, 28845, 233659, 252093, 266431, 43202, 59591, 241869, 22735, 176341, 121055, 26855, 221445, 10509, 129304, 200989, 110878, 143655, 20782, 117043, 18742, 137527, 299321, 229698, 53588, 10587, 221537, 22903, 31099, 72059, 16770, 295302, 291211, 90516, 45468, 51622, 209335, 295351, 256449, 285123, 98759, 201168, 113111, 61912, 39393, 12770, 143848, 195051, 215535, 295412, 88564, 139765, 59893, 168444, 182791, 25100, 238101, 231968, 277032, 64042, 109099, 119340, 90675, 211512, 170553, 170554, 148032, 143944, 100941, 47698, 49747, 66132, 70237, 156276, 262781, 281214, 223875, 57988, 64138, 74389, 191131, 47776, 43682, 211622, 271022, 94895, 152240, 158384, 148154, 12989, 219837, 115392, 41665, 94918, 217800, 172745, 193225, 82635, 277194, 164567, 13020, 127726, 74480, 35574, 277243, 121607, 109321, 199434, 217867, 47892, 248599, 113452, 295728, 125746, 70453, 273206, 172873, 133962, 37706, 183119, 232274, 291670, 50006, 262998, 211801, 248673, 260964, 207725, 248690, 193408, 158607, 179093, 109470, 11195, 136125, 91071, 269252, 134090, 166866, 164820, 52184, 138216, 218095, 113663, 257036, 35853, 283665, 201749, 279575, 175139, 111656, 246839, 230465, 97345, 244816, 218194, 130133, 29783, 97376, 173152, 269410, 289894, 164974, 291963, 224379, 183419, 58494, 269442, 279688, 253069, 109710, 285851, 228513, 136358, 212134, 124078, 140463, 85168, 11442, 83142, 130253, 93391, 60625, 101610, 118002, 212213, 46325, 232698, 296190, 249088, 128265, 85257, 152846, 175383, 228649, 273713, 195892, 50488, 152895, 249165, 200021, 66906, 251228, 189803, 52591, 253296, 122240, 75137, 146818, 202116, 195975, 103821, 140691, 30101, 222631, 222635, 91564, 89516, 71101, 150974, 175561, 228821, 171488, 257510, 239084, 60909, 288255, 175620, 124428, 259600, 19987, 179746, 48679, 128552, 26156, 13869, 122441, 218705, 280161, 194151, 110198, 30337, 226947, 296580, 61059, 16006, 130696, 147083, 229019, 272036, 149161, 42668, 216757, 79543, 26298, 24251, 243396, 198341, 280267, 14028, 151245, 132812, 157396, 42714, 247527, 151274, 44782, 255727, 104176, 192247, 212736, 280320, 81679, 268049, 288537, 149277, 24358, 91956, 220987, 198463, 26434, 108357, 126804, 79707, 153447, 288617, 237422, 247663, 161646, 278387, 63352, 153467, 34695, 98184, 247694, 14222, 214933, 167832, 102297, 294815, 298913, 165797, 173998, 247726, 251833, 282553, 153534, 106432, 202693, 135113, 145362, 131033, 198619, 139242, 186346, 288754, 159738, 249854]\n",
      "conjunto de valores unicos de Fecha: [Timestamp('2019-01-25 00:00:00'), Timestamp('2024-06-04 00:00:00'), Timestamp('2020-09-01 00:00:00'), Timestamp('2021-01-04 00:00:00'), Timestamp('2020-09-22 00:00:00'), Timestamp('2022-10-07 00:00:00'), Timestamp('2020-06-04 00:00:00'), Timestamp('2023-10-01 00:00:00'), Timestamp('2021-01-07 00:00:00'), Timestamp('2020-04-07 00:00:00'), Timestamp('2019-07-01 00:00:00'), Timestamp('2022-09-22 00:00:00'), Timestamp('2019-04-22 00:00:00'), Timestamp('2019-02-08 00:00:00'), Timestamp('2019-03-16 00:00:00'), Timestamp('2023-10-19 00:00:00'), Timestamp('2020-02-22 00:00:00'), Timestamp('2023-11-13 00:00:00'), Timestamp('2023-10-13 00:00:00'), Timestamp('2020-04-01 00:00:00'), Timestamp('2019-04-07 00:00:00'), Timestamp('2023-01-01 00:00:00'), Timestamp('2019-05-04 00:00:00'), Timestamp('2020-10-01 00:00:00'), Timestamp('2019-01-05 00:00:00'), Timestamp('2020-07-22 00:00:00'), Timestamp('2022-10-10 00:00:00'), Timestamp('2024-04-10 00:00:00'), Timestamp('2020-12-22 00:00:00'), Timestamp('2019-02-02 00:00:00'), Timestamp('2024-03-05 00:00:00'), Timestamp('2021-01-10 00:00:00'), Timestamp('2019-05-25 00:00:00'), Timestamp('2023-11-07 00:00:00'), Timestamp('2020-09-13 00:00:00'), Timestamp('2020-09-25 00:00:00'), Timestamp('2024-01-21 00:00:00'), Timestamp('2023-11-01 00:00:00'), Timestamp('2020-11-19 00:00:00'), Timestamp('2023-01-10 00:00:00'), Timestamp('2020-03-11 00:00:00'), Timestamp('2020-03-26 00:00:00'), Timestamp('2023-01-27 00:00:00'), Timestamp('2023-10-22 00:00:00'), Timestamp('2019-03-25 00:00:00'), Timestamp('2019-07-04 00:00:00'), Timestamp('2020-05-28 00:00:00'), Timestamp('2022-09-28 00:00:00'), Timestamp('2023-02-17 00:00:00'), Timestamp('2023-01-22 00:00:00'), Timestamp('2019-06-13 00:00:00'), Timestamp('2024-01-28 00:00:00'), Timestamp('2020-01-14 00:00:00'), Timestamp('2023-03-01 00:00:00'), Timestamp('2020-04-16 00:00:00'), Timestamp('2020-08-25 00:00:00'), Timestamp('2019-04-01 00:00:00'), Timestamp('2019-02-14 00:00:00'), Timestamp('2020-12-01 00:00:00'), Timestamp('2020-07-25 00:00:00'), Timestamp('2024-02-01 00:00:00'), Timestamp('2019-06-28 00:00:00'), Timestamp('2022-10-16 00:00:00'), Timestamp('2024-02-08 00:00:00'), Timestamp('2019-04-25 00:00:00'), Timestamp('2022-10-22 00:00:00'), Timestamp('2022-10-04 00:00:00'), Timestamp('2020-04-19 00:00:00'), Timestamp('2021-02-28 00:00:00'), Timestamp('2019-04-28 00:00:00'), Timestamp('2020-01-20 00:00:00'), Timestamp('2020-05-01 00:00:00'), Timestamp('2020-11-25 00:00:00'), Timestamp('2020-09-28 00:00:00'), Timestamp('2020-01-08 00:00:00'), Timestamp('2024-06-03 00:00:00'), Timestamp('2021-03-04 00:00:00'), Timestamp('2020-07-19 00:00:00'), Timestamp('2020-01-17 00:00:00'), Timestamp('2020-02-07 00:00:00'), Timestamp('2019-06-25 00:00:00'), Timestamp('2019-02-26 00:00:00'), Timestamp('2024-05-19 00:00:00'), Timestamp('2020-08-22 00:00:00'), Timestamp('2020-03-08 00:00:00'), Timestamp('2023-01-12 00:00:00'), Timestamp('2024-06-12 00:00:00'), Timestamp('2020-07-07 00:00:00'), Timestamp('2019-06-04 00:00:00'), Timestamp('2022-09-25 00:00:00'), Timestamp('2019-01-15 00:00:00'), Timestamp('2020-12-19 00:00:00'), Timestamp('2020-12-10 00:00:00'), Timestamp('2021-03-01 00:00:00'), Timestamp('2020-07-04 00:00:00'), Timestamp('2020-09-04 00:00:00'), Timestamp('2021-01-13 00:00:00'), Timestamp('2022-10-19 00:00:00'), Timestamp('2019-04-13 00:00:00'), Timestamp('2019-01-27 00:00:00'), Timestamp('2020-11-01 00:00:00'), Timestamp('2019-05-07 00:00:00'), Timestamp('2020-04-25 00:00:00'), Timestamp('2020-05-25 00:00:00'), Timestamp('2020-08-13 00:00:00'), Timestamp('2019-04-10 00:00:00'), Timestamp('2023-11-04 00:00:00'), Timestamp('2024-03-06 00:00:00'), Timestamp('2019-03-28 00:00:00'), Timestamp('2023-02-14 00:00:00'), Timestamp('2019-05-16 00:00:00'), Timestamp('2019-05-28 00:00:00'), Timestamp('2020-05-04 00:00:00'), Timestamp('2020-01-11 00:00:00'), Timestamp('2020-05-19 00:00:00'), Timestamp('2021-02-22 00:00:00'), Timestamp('2020-12-07 00:00:00'), Timestamp('2019-03-10 00:00:00'), Timestamp('2020-07-10 00:00:00'), Timestamp('2021-02-07 00:00:00'), Timestamp('2023-01-17 00:00:00'), Timestamp('2020-05-22 00:00:00'), Timestamp('2021-01-01 00:00:00'), Timestamp('2020-06-16 00:00:00'), Timestamp('2023-02-08 00:00:00'), Timestamp('2019-06-19 00:00:00'), Timestamp('2019-03-13 00:00:00'), Timestamp('2020-08-01 00:00:00'), Timestamp('2020-03-17 00:00:00'), Timestamp('2023-02-26 00:00:00'), Timestamp('2021-01-28 00:00:00'), Timestamp('2019-02-11 00:00:00'), Timestamp('2020-10-13 00:00:00'), Timestamp('2019-05-19 00:00:00'), Timestamp('2020-11-13 00:00:00'), Timestamp('2020-08-07 00:00:00'), Timestamp('2020-08-04 00:00:00'), Timestamp('2020-09-16 00:00:00'), Timestamp('2020-12-28 00:00:00'), Timestamp('2019-03-01 00:00:00'), Timestamp('2022-11-17 00:00:00'), Timestamp('2020-12-25 00:00:00'), Timestamp('2024-01-18 00:00:00'), Timestamp('2024-04-14 00:00:00'), Timestamp('2020-10-19 00:00:00'), Timestamp('2020-11-16 00:00:00'), Timestamp('2020-08-19 00:00:00'), Timestamp('2019-04-16 00:00:00'), Timestamp('2019-01-22 00:00:00'), Timestamp('2024-05-24 00:00:00'), Timestamp('2021-02-16 00:00:00'), Timestamp('2021-01-22 00:00:00'), Timestamp('2019-02-20 00:00:00'), Timestamp('2020-03-05 00:00:00'), Timestamp('2020-11-04 00:00:00'), Timestamp('2021-01-25 00:00:00'), Timestamp('2020-08-16 00:00:00'), Timestamp('2024-03-18 00:00:00'), Timestamp('2020-01-26 00:00:00'), Timestamp('2023-01-07 00:00:00'), Timestamp('2023-02-23 00:00:00'), Timestamp('2020-10-10 00:00:00'), Timestamp('2020-05-10 00:00:00'), Timestamp('2020-08-28 00:00:00'), Timestamp('2020-10-07 00:00:00'), Timestamp('2020-03-02 00:00:00'), Timestamp('2019-06-10 00:00:00'), Timestamp('2022-11-18 00:00:00'), Timestamp('2019-03-22 00:00:00'), Timestamp('2019-03-07 00:00:00'), Timestamp('2024-05-01 00:00:00'), Timestamp('2020-10-28 00:00:00'), Timestamp('2020-01-05 00:00:00'), Timestamp('2020-07-13 00:00:00'), Timestamp('2020-06-19 00:00:00'), Timestamp('2020-06-07 00:00:00'), Timestamp('2020-03-14 00:00:00'), Timestamp('2019-01-07 00:00:00'), Timestamp('2019-01-30 00:00:00'), Timestamp('2020-05-07 00:00:00'), Timestamp('2019-01-17 00:00:00'), Timestamp('2020-10-25 00:00:00'), Timestamp('2020-01-29 00:00:00'), Timestamp('2019-06-01 00:00:00'), Timestamp('2019-05-13 00:00:00'), Timestamp('2023-10-10 00:00:00'), Timestamp('2024-06-19 00:00:00'), Timestamp('2019-02-17 00:00:00'), Timestamp('2023-01-15 00:00:00'), Timestamp('2021-02-19 00:00:00'), Timestamp('2019-02-05 00:00:00'), Timestamp('2019-06-07 00:00:00'), Timestamp('2019-06-16 00:00:00'), Timestamp('2022-10-13 00:00:00'), Timestamp('2019-01-20 00:00:00'), Timestamp('2023-01-20 00:00:00'), Timestamp('2022-10-01 00:00:00'), Timestamp('2020-08-10 00:00:00'), Timestamp('2023-02-11 00:00:00'), Timestamp('2021-02-25 00:00:00'), Timestamp('2024-05-06 00:00:00'), Timestamp('2023-02-05 00:00:00'), Timestamp('2023-10-28 00:00:00'), Timestamp('2019-01-01 00:00:00'), Timestamp('2021-02-04 00:00:00'), Timestamp('2020-11-28 00:00:00'), Timestamp('2020-09-19 00:00:00'), Timestamp('2020-01-23 00:00:00'), Timestamp('2020-02-04 00:00:00'), Timestamp('2024-03-09 00:00:00'), Timestamp('2020-06-13 00:00:00'), Timestamp('2023-01-25 00:00:00'), Timestamp('2020-07-16 00:00:00'), Timestamp('2020-04-10 00:00:00'), Timestamp('2019-01-12 00:00:00'), Timestamp('2020-02-19 00:00:00'), Timestamp('2023-01-05 00:00:00'), Timestamp('2021-02-13 00:00:00'), Timestamp('2019-05-01 00:00:00'), Timestamp('2020-10-16 00:00:00'), Timestamp('2020-11-10 00:00:00'), Timestamp('2024-01-15 00:00:00'), Timestamp('2020-09-07 00:00:00'), Timestamp('2023-11-10 00:00:00'), Timestamp('2020-02-01 00:00:00'), Timestamp('2020-12-16 00:00:00'), Timestamp('2020-10-22 00:00:00'), Timestamp('2020-02-10 00:00:00'), Timestamp('2020-04-04 00:00:00'), Timestamp('2020-05-13 00:00:00'), Timestamp('2020-05-16 00:00:00'), Timestamp('2020-04-22 00:00:00'), Timestamp('2020-02-25 00:00:00'), Timestamp('2020-03-23 00:00:00'), Timestamp('2020-04-13 00:00:00'), Timestamp('2024-01-09 00:00:00'), Timestamp('2021-01-19 00:00:00'), Timestamp('2019-05-10 00:00:00'), Timestamp('2023-10-25 00:00:00'), Timestamp('2019-01-10 00:00:00'), Timestamp('2019-06-22 00:00:00'), Timestamp('2023-10-04 00:00:00'), Timestamp('2022-10-25 00:00:00'), Timestamp('2020-12-04 00:00:00'), Timestamp('2023-01-03 00:00:00'), Timestamp('2019-04-04 00:00:00'), Timestamp('2020-03-29 00:00:00'), Timestamp('2020-02-16 00:00:00'), Timestamp('2020-09-10 00:00:00'), Timestamp('2024-04-09 00:00:00'), Timestamp('2024-03-28 00:00:00'), Timestamp('2021-02-01 00:00:00'), Timestamp('2020-02-28 00:00:00'), Timestamp('2024-05-02 00:00:00'), Timestamp('2020-11-07 00:00:00'), Timestamp('2020-10-04 00:00:00'), Timestamp('2023-10-07 00:00:00'), Timestamp('2020-11-22 00:00:00'), Timestamp('2024-01-20 00:00:00'), Timestamp('2019-02-23 00:00:00'), Timestamp('2023-10-16 00:00:00'), Timestamp('2020-06-01 00:00:00'), Timestamp('2020-06-28 00:00:00'), Timestamp('2024-01-03 00:00:00'), Timestamp('2023-01-30 00:00:00'), Timestamp('2020-04-28 00:00:00'), Timestamp('2020-06-22 00:00:00'), Timestamp('2020-02-13 00:00:00'), Timestamp('2021-02-10 00:00:00'), Timestamp('2024-02-04 00:00:00'), Timestamp('2023-03-04 00:00:00'), Timestamp('2020-07-01 00:00:00'), Timestamp('2020-12-13 00:00:00'), Timestamp('2019-03-19 00:00:00'), Timestamp('2020-06-10 00:00:00'), Timestamp('2020-03-20 00:00:00'), Timestamp('2019-01-03 00:00:00'), Timestamp('2021-01-16 00:00:00'), Timestamp('2023-02-20 00:00:00'), Timestamp('2019-03-04 00:00:00'), Timestamp('2020-06-25 00:00:00'), Timestamp('2020-01-02 00:00:00'), Timestamp('2023-02-02 00:00:00'), Timestamp('2020-07-28 00:00:00'), Timestamp('2019-04-19 00:00:00'), Timestamp('2019-05-22 00:00:00'), Timestamp('2021-03-07 00:00:00')]\n",
      "conjunto de valores unicos de Nro_Cuenta: [516000, 509100, 507100, 506100, 514100, 502100, 501400, 503100]\n",
      "conjunto de valores unicos de Ciudad: ['Villa María', 'Merlo', 'Neuquén', 'General Roca', 'San Fernando', 'Oberá', 'Buenos Aires', 'Rio Gallegos', 'Luján', 'Formosa', 'Rafaela', 'Chaco', 'San Nicolás', 'Villa Allende', 'Junín', 'Mar del Plata', 'Calafate', 'Villa Carlos Paz', 'San Fernando del Valle de Catamarca', 'La Plata', 'San Luis', 'San Miguel de Tucumán', 'Rawson', 'San Rafael', 'Santiago del Estero', 'San Martín', 'Bahía Blanca', 'Gualeguaychú', 'San Juan', 'San Pedro', 'Santa Fe', 'Trelew', 'Río Grande', 'Rosario', 'Viedma', 'Resistencia', 'Mendoza', 'Salta', 'Posadas', 'Jujuy', 'Cordoba', 'Río Cuarto']\n",
      "conjunto de valores unicos de Pais: ['Argentina']\n"
     ]
    }
   ],
   "source": [
    "for column in prov.columns:\n",
    "    columna = list(set(prov[column]))\n",
    "    print(f'cantidad de valores unicos de {column}: {len(columna)}')\n",
    "    \n",
    "print()\n",
    "print()\n",
    "\n",
    "for column in prov.columns:\n",
    "    columna = list(set(prov[column]))\n",
    "    print(f'conjunto de valores unicos de {column}: {columna}')"
   ]
  },
  {
   "cell_type": "code",
   "execution_count": null,
   "id": "5acafea2",
   "metadata": {},
   "outputs": [],
   "source": []
  }
 ],
 "metadata": {
  "kernelspec": {
   "display_name": "Python 3",
   "language": "python",
   "name": "python3"
  },
  "language_info": {
   "codemirror_mode": {
    "name": "ipython",
    "version": 3
   },
   "file_extension": ".py",
   "mimetype": "text/x-python",
   "name": "python",
   "nbconvert_exporter": "python",
   "pygments_lexer": "ipython3",
   "version": "3.11.0"
  }
 },
 "nbformat": 4,
 "nbformat_minor": 5
}
