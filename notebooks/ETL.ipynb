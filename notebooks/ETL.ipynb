{
 "cells": [
  {
   "cell_type": "code",
   "execution_count": 1,
   "id": "2c6639d1",
   "metadata": {},
   "outputs": [],
   "source": [
    "import numpy as np\n",
    "import pandas as pd\n"
   ]
  },
  {
   "cell_type": "code",
   "execution_count": 4,
   "id": "3d07b320",
   "metadata": {},
   "outputs": [],
   "source": [
    "prov = pd.read_excel('../data/raw/proveedores.xlsx')"
   ]
  },
  {
   "cell_type": "code",
   "execution_count": null,
   "id": "d463644e",
   "metadata": {},
   "outputs": [],
   "source": [
    "det = pd.read_csv('', sep= '\\t', encoding = 'latin1')"
   ]
  },
  {
   "cell_type": "code",
   "execution_count": null,
   "id": "cc4ac0db",
   "metadata": {},
   "outputs": [],
   "source": [
    "don = pd.read_excel('')"
   ]
  },
  {
   "cell_type": "code",
   "execution_count": null,
   "id": "6b65ca02",
   "metadata": {},
   "outputs": [
    {
     "data": {
      "text/html": [
       "<div>\n",
       "<style scoped>\n",
       "    .dataframe tbody tr th:only-of-type {\n",
       "        vertical-align: middle;\n",
       "    }\n",
       "\n",
       "    .dataframe tbody tr th {\n",
       "        vertical-align: top;\n",
       "    }\n",
       "\n",
       "    .dataframe thead th {\n",
       "        text-align: right;\n",
       "    }\n",
       "</style>\n",
       "<table border=\"1\" class=\"dataframe\">\n",
       "  <thead>\n",
       "    <tr style=\"text-align: right;\">\n",
       "      <th></th>\n",
       "      <th>Número Proveedor</th>\n",
       "      <th>Nombre Proveedor</th>\n",
       "      <th>CUIT</th>\n",
       "      <th>Categor/a Proveedor</th>\n",
       "      <th>Tipo de Contribuyente</th>\n",
       "      <th>Observaciones</th>\n",
       "      <th>Contacto</th>\n",
       "      <th>Correo Electrónico</th>\n",
       "      <th>Teléfono</th>\n",
       "      <th>Razón Social</th>\n",
       "      <th>Importe</th>\n",
       "      <th>Fecha</th>\n",
       "      <th>Nro_Cuenta</th>\n",
       "      <th>Ciudad</th>\n",
       "      <th>Pais</th>\n",
       "    </tr>\n",
       "  </thead>\n",
       "  <tbody>\n",
       "    <tr>\n",
       "      <th>0</th>\n",
       "      <td>P00001</td>\n",
       "      <td>Proveedora S.A.</td>\n",
       "      <td>30-12345678-9</td>\n",
       "      <td>SERVIC/OS</td>\n",
       "      <td>RESPONSABLE INSCR/ITO</td>\n",
       "      <td>-</td>\n",
       "      <td>Juan Pérez</td>\n",
       "      <td>juan.perez@empresa.com</td>\n",
       "      <td>1234-5678</td>\n",
       "      <td>S.A.</td>\n",
       "      <td>171488</td>\n",
       "      <td>2024-03-18</td>\n",
       "      <td>501400</td>\n",
       "      <td>Buenos Aires</td>\n",
       "      <td>Argentina</td>\n",
       "    </tr>\n",
       "    <tr>\n",
       "      <th>1</th>\n",
       "      <td>P00002</td>\n",
       "      <td>Pedro González</td>\n",
       "      <td>30-87654321-0</td>\n",
       "      <td>SERVIC/OS</td>\n",
       "      <td>MONOTRIBUTISTA</td>\n",
       "      <td>-</td>\n",
       "      <td>Pedro González</td>\n",
       "      <td>pedro.gonzalez@correo.zom</td>\n",
       "      <td>2345-6789</td>\n",
       "      <td>S.R.L.</td>\n",
       "      <td>288255</td>\n",
       "      <td>2024-02-08</td>\n",
       "      <td>503100</td>\n",
       "      <td>Cordoba</td>\n",
       "      <td>Argentina</td>\n",
       "    </tr>\n",
       "    <tr>\n",
       "      <th>2</th>\n",
       "      <td>P00003</td>\n",
       "      <td>Empresa XYZ</td>\n",
       "      <td>30-13579246-3</td>\n",
       "      <td>MATER/IALES</td>\n",
       "      <td>RESPONSABLE INSCR/ITO</td>\n",
       "      <td>-</td>\n",
       "      <td>María López</td>\n",
       "      <td>maria.lopez@empresa.com</td>\n",
       "      <td>3456-7890</td>\n",
       "      <td>S.A.</td>\n",
       "      <td>195975</td>\n",
       "      <td>2024-01-18</td>\n",
       "      <td>506100</td>\n",
       "      <td>Rosario</td>\n",
       "      <td>Argentina</td>\n",
       "    </tr>\n",
       "    <tr>\n",
       "      <th>3</th>\n",
       "      <td>P00004</td>\n",
       "      <td>Servicios AB</td>\n",
       "      <td>30-24681357-2</td>\n",
       "      <td>AGENTE /MPOSITIVO</td>\n",
       "      <td>RESPONSAB/LE INSCRIPTO</td>\n",
       "      <td>-</td>\n",
       "      <td>Laura Ruiz</td>\n",
       "      <td>laura.ruiz@correo.zom</td>\n",
       "      <td>AR4567-8901</td>\n",
       "      <td>S.R.L.</td>\n",
       "      <td>158607</td>\n",
       "      <td>2024-03-09</td>\n",
       "      <td>509100</td>\n",
       "      <td>Mendoza</td>\n",
       "      <td>Argentina</td>\n",
       "    </tr>\n",
       "    <tr>\n",
       "      <th>4</th>\n",
       "      <td>P00005</td>\n",
       "      <td>Carlos Méndez</td>\n",
       "      <td>30-12345678-9</td>\n",
       "      <td>SERVIC/OS</td>\n",
       "      <td>MONOTRIBUTISTA</td>\n",
       "      <td>-</td>\n",
       "      <td>Carlos Méndez</td>\n",
       "      <td>carlos.mendez@correo.com</td>\n",
       "      <td>5678-9012</td>\n",
       "      <td>S.A.</td>\n",
       "      <td>238101</td>\n",
       "      <td>2024-03-28</td>\n",
       "      <td>516000</td>\n",
       "      <td>Buenos Aires</td>\n",
       "      <td>Argentina</td>\n",
       "    </tr>\n",
       "  </tbody>\n",
       "</table>\n",
       "</div>"
      ],
      "text/plain": [
       "  Número Proveedor Nombre Proveedor           CUIT Categor/a Proveedor  \\\n",
       "0           P00001  Proveedora S.A.  30-12345678-9           SERVIC/OS   \n",
       "1           P00002   Pedro González  30-87654321-0           SERVIC/OS   \n",
       "2           P00003      Empresa XYZ  30-13579246-3         MATER/IALES   \n",
       "3           P00004     Servicios AB  30-24681357-2   AGENTE /MPOSITIVO   \n",
       "4           P00005    Carlos Méndez  30-12345678-9           SERVIC/OS   \n",
       "\n",
       "    Tipo de Contribuyente Observaciones        Contacto  \\\n",
       "0   RESPONSABLE INSCR/ITO             -      Juan Pérez   \n",
       "1          MONOTRIBUTISTA             -  Pedro González   \n",
       "2   RESPONSABLE INSCR/ITO             -     María López   \n",
       "3  RESPONSAB/LE INSCRIPTO             -      Laura Ruiz   \n",
       "4          MONOTRIBUTISTA             -   Carlos Méndez   \n",
       "\n",
       "          Correo Electrónico     Teléfono Razón Social  Importe      Fecha  \\\n",
       "0     juan.perez@empresa.com    1234-5678         S.A.   171488 2024-03-18   \n",
       "1  pedro.gonzalez@correo.zom    2345-6789       S.R.L.   288255 2024-02-08   \n",
       "2    maria.lopez@empresa.com    3456-7890         S.A.   195975 2024-01-18   \n",
       "3      laura.ruiz@correo.zom  AR4567-8901       S.R.L.   158607 2024-03-09   \n",
       "4   carlos.mendez@correo.com    5678-9012         S.A.   238101 2024-03-28   \n",
       "\n",
       "   Nro_Cuenta        Ciudad       Pais  \n",
       "0      501400  Buenos Aires  Argentina  \n",
       "1      503100       Cordoba  Argentina  \n",
       "2      506100       Rosario  Argentina  \n",
       "3      509100       Mendoza  Argentina  \n",
       "4      516000  Buenos Aires  Argentina  "
      ]
     },
     "execution_count": 5,
     "metadata": {},
     "output_type": "execute_result"
    }
   ],
   "source": [
    "prov.head()"
   ]
  },
  {
   "cell_type": "code",
   "execution_count": 8,
   "id": "1b488a75",
   "metadata": {},
   "outputs": [
    {
     "name": "stdout",
     "output_type": "stream",
     "text": [
      "<class 'pandas.core.frame.DataFrame'>\n",
      "RangeIndex: 373 entries, 0 to 372\n",
      "Data columns (total 15 columns):\n",
      " #   Column                 Non-Null Count  Dtype         \n",
      "---  ------                 --------------  -----         \n",
      " 0   Número Proveedor       373 non-null    object        \n",
      " 1   Nombre Proveedor       373 non-null    object        \n",
      " 2   CUIT                   373 non-null    object        \n",
      " 3   Categor/a Proveedor    373 non-null    object        \n",
      " 4   Tipo de Contribuyente  373 non-null    object        \n",
      " 5   Observaciones          373 non-null    object        \n",
      " 6   Contacto               373 non-null    object        \n",
      " 7   Correo Electrónico     373 non-null    object        \n",
      " 8   Teléfono               373 non-null    object        \n",
      " 9   Razón Social           373 non-null    object        \n",
      " 10  Importe                373 non-null    int64         \n",
      " 11  Fecha                  373 non-null    datetime64[ns]\n",
      " 12  Nro_Cuenta             373 non-null    int64         \n",
      " 13  Ciudad                 373 non-null    object        \n",
      " 14  Pais                   373 non-null    object        \n",
      "dtypes: datetime64[ns](1), int64(2), object(12)\n",
      "memory usage: 43.8+ KB\n"
     ]
    }
   ],
   "source": [
    "prov.info()"
   ]
  },
  {
   "cell_type": "code",
   "execution_count": 7,
   "id": "a4556dff",
   "metadata": {},
   "outputs": [
    {
     "data": {
      "text/plain": [
       "Número Proveedor         373\n",
       "Nombre Proveedor         373\n",
       "CUIT                     373\n",
       "Categor/a Proveedor      373\n",
       "Tipo de Contribuyente    373\n",
       "Observaciones            373\n",
       "Contacto                 373\n",
       "Correo Electrónico       373\n",
       "Teléfono                 373\n",
       "Razón Social             373\n",
       "Importe                  373\n",
       "Fecha                    373\n",
       "Nro_Cuenta               373\n",
       "Ciudad                   373\n",
       "Pais                     373\n",
       "dtype: int64"
      ]
     },
     "execution_count": 7,
     "metadata": {},
     "output_type": "execute_result"
    }
   ],
   "source": [
    "prov.isna().count()"
   ]
  },
  {
   "cell_type": "code",
   "execution_count": null,
   "id": "36309415",
   "metadata": {},
   "outputs": [
    {
     "name": "stdout",
     "output_type": "stream",
     "text": [
      "cantidad de valores unicos de Número Proveedor: 68\n",
      "cantidad de valores unicos de Nombre Proveedor: 68\n",
      "cantidad de valores unicos de CUIT: 64\n",
      "cantidad de valores unicos de Categor/a Proveedor: 13\n",
      "cantidad de valores unicos de Tipo de Contribuyente: 6\n",
      "cantidad de valores unicos de Observaciones: 1\n",
      "cantidad de valores unicos de Contacto: 69\n",
      "cantidad de valores unicos de Correo Electrónico: 68\n",
      "cantidad de valores unicos de Teléfono: 39\n",
      "cantidad de valores unicos de Razón Social: 4\n",
      "cantidad de valores unicos de Importe: 344\n",
      "cantidad de valores unicos de Fecha: 287\n",
      "cantidad de valores unicos de Nro_Cuenta: 8\n",
      "cantidad de valores unicos de Ciudad: 42\n",
      "cantidad de valores unicos de Pais: 1\n"
     ]
    }
   ],
   "source": [
    "for column in prov.columns:\n",
    "    columna = list(set(prov[column]))\n",
    "    print(f'cantidad de valores unicos de {column}: {len(columna)}')\n",
    "    # print(f'conjunto de valores unicos de {column}: {column}')"
   ]
  },
  {
   "cell_type": "code",
   "execution_count": null,
   "id": "5acafea2",
   "metadata": {},
   "outputs": [],
   "source": []
  }
 ],
 "metadata": {
  "kernelspec": {
   "display_name": "Python 3",
   "language": "python",
   "name": "python3"
  },
  "language_info": {
   "codemirror_mode": {
    "name": "ipython",
    "version": 3
   },
   "file_extension": ".py",
   "mimetype": "text/x-python",
   "name": "python",
   "nbconvert_exporter": "python",
   "pygments_lexer": "ipython3",
   "version": "3.11.0"
  }
 },
 "nbformat": 4,
 "nbformat_minor": 5
}
